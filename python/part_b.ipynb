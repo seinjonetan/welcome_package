{
 "cells": [
  {
   "cell_type": "markdown",
   "id": "cf2ae5c2-06f1-47fc-ba00-a11c9d11d4f2",
   "metadata": {},
   "source": [
    "#### Part B"
   ]
  },
  {
   "cell_type": "markdown",
   "id": "9c042e74-20b2-4a02-ac84-e9f9612e1def",
   "metadata": {},
   "source": [
    "Now, let's move forward into more of the basics. We'll look at the building blocks of how Python stores data in memory and implements fundamental concepts such as program logic."
   ]
  },
  {
   "cell_type": "markdown",
   "id": "f1c3d60a-6e72-422b-92ff-67bb30f5b312",
   "metadata": {},
   "source": [
    "### Lists\n",
    "\n",
    "The basic data container in Python is a *list*. Lists act as a general purpose container for Python objects - they can hold any combination of data of different types.\n",
    "\n",
    "A *list* is created as an ordered sequence of data enclosed in square brackets, with each element separated by a comma.  For example:"
   ]
  },
  {
   "cell_type": "code",
   "execution_count": null,
   "id": "defe9462-f636-48da-997e-95d7493e6a59",
   "metadata": {},
   "outputs": [],
   "source": [
    "l = [2, 3, 5, 7]"
   ]
  },
  {
   "cell_type": "markdown",
   "id": "b876476b-65b4-4855-898e-3ec336c47abd",
   "metadata": {},
   "source": [
    "Lists can contain multiple data types as entries:"
   ]
  },
  {
   "cell_type": "code",
   "execution_count": null,
   "id": "ae2b52c2-3b45-4d3f-970d-700834e4ae02",
   "metadata": {},
   "outputs": [],
   "source": [
    "m = [10, 'ES', -1.234, True]"
   ]
  },
  {
   "cell_type": "markdown",
   "id": "4ed34e99-59f0-4065-a10e-7228aa02fb21",
   "metadata": {},
   "source": [
    "and can even have other lists as entries:"
   ]
  },
  {
   "cell_type": "code",
   "execution_count": null,
   "id": "6c41313c-e16a-4ba0-ae4c-0fd871413ed6",
   "metadata": {},
   "outputs": [],
   "source": [
    "J = [21, 5, ['apples', 12, False]]"
   ]
  },
  {
   "cell_type": "code",
   "execution_count": null,
   "id": "3c00a587-de09-4029-a52b-27fb6b574022",
   "metadata": {},
   "outputs": [],
   "source": [
    "You can create an empty list by defining a variable name to brackets ```[]```:"
   ]
  },
  {
   "cell_type": "code",
   "execution_count": null,
   "id": "afc58037-bf90-4f9f-b67b-b47dfc435680",
   "metadata": {},
   "outputs": [],
   "source": [
    "empty_list = []\n",
    "# Calling it will produce the empty list\n",
    "empty_list"
   ]
  },
  {
   "cell_type": "markdown",
   "id": "3a18cd0a-135b-4f1f-86f1-9576627f091a",
   "metadata": {},
   "source": [
    "Or also using the `list()` function:"
   ]
  },
  {
   "cell_type": "code",
   "execution_count": null,
   "id": "2f4ee499-e22f-4ad4-8afd-790335313fdd",
   "metadata": {},
   "outputs": [],
   "source": [
    "print(J[0])\n",
    "print(J[2][0])"
   ]
  },
  {
   "cell_type": "markdown",
   "id": "9e6c3aa9-b94b-4604-b23d-834f09d6c1d6",
   "metadata": {},
   "source": [
    "As mentioned, we can nest lists inside of other lists. This allows us to effectively create *matrices* with lists (we'll be speaking more about matrices when we get to the lesson on statistics and linear algebra). In our list of lists, the internal lists represent the *rows* of the matrix. For example, we can represent the matrix:\n",
    "\n",
    "$$ B = \\begin{bmatrix} 1 & 2 \\\\ 0 & 4 \\end{bmatrix} $$\n",
    "\n",
    "as:"
   ]
  },
  {
   "cell_type": "code",
   "execution_count": null,
   "id": "8de62f76-10cd-4196-b802-5c1dd65a8f75",
   "metadata": {},
   "outputs": [],
   "source": [
    "B = [[1, 2], [0, 4]]"
   ]
  },
  {
   "cell_type": "markdown",
   "id": "8b8cf97c-aa11-42ff-8a22-0ca66fbf6898",
   "metadata": {},
   "source": [
    "The element $2$ in the matrix $B$ is in the first row, second column.  How would we retrieve that from the list object `B` using indices?"
   ]
  },
  {
   "cell_type": "code",
   "execution_count": null,
   "id": "9d40c5d2-47b5-4d0f-a575-abe52b47ad85",
   "metadata": {},
   "outputs": [],
   "source": [
    "B"
   ]
  },
  {
   "cell_type": "markdown",
   "id": "40aa2b0a-2bbd-4f62-8e81-6d444e35b1d0",
   "metadata": {},
   "source": [
    "### 0 vs 1 indexing\n",
    "\n",
    "Python is a 0 indexed language. This means if I want the first object in a list, I need to tell Python that I want the 0th object. R, Matlab, Mathematica, and some other programming languages are 1 indexed, where the first item in an array is array[1], as that is how humans have counted for thousands of years. 0 indexed languages are more common, and have an obscure history - in fact, there are even claims that it is due to yacht racing in the 1960s.\n",
    "\n",
    "Off-by-one errors are one of the most common bugs in computing - and a little bit of UX/UI considerations might have significantly reduced them. Some of your instructors switch between two languages: Python and R.  Python is 0 indexed and R is 1 indexed - keep and eye out for these errors.\n",
    "\n",
    "As well as indexing individual elements, we can take slices using a `:`, to indicate a range of elements to return."
   ]
  },
  {
   "cell_type": "markdown",
   "id": "259e0a73-569d-4d13-babc-68443a812db2",
   "metadata": {},
   "source": [
    "### Slicing list elements\n",
    "If we wanted to access a slice of list elements, we would use the same syntax for slicing string elements:  for a given list `l`, to slice out the elements from index `n` up to (but not including) index `m`, we would write:<br>\n",
    "`l[n:m]`<br>\n",
    "As an example, if we consider the following list:"
   ]
  },
  {
   "cell_type": "code",
   "execution_count": null,
   "id": "edf5e32c-e25a-499d-b9a8-804817d37e7f",
   "metadata": {},
   "outputs": [],
   "source": [
    "sl = ['apples', 'pears', 'oranges', 'cherries', 'grapefruits', 'pomegranates']"
   ]
  },
  {
   "cell_type": "markdown",
   "id": "5a73ef32-42d7-4794-9a22-82f27abc40c4",
   "metadata": {},
   "source": [
    "and wanted elements 1 through 3, we would slice:"
   ]
  },
  {
   "cell_type": "code",
   "execution_count": null,
   "id": "9c32b904-3d63-4322-82b6-54609819acd8",
   "metadata": {},
   "outputs": [],
   "source": [
    "sl[1:4]"
   ]
  },
  {
   "cell_type": "markdown",
   "id": "b89d1e22-ed3a-4051-964d-b7a9a65d363b",
   "metadata": {},
   "source": [
    "Leaving the first and/or last index call blank will make Python assume you mean \"from the beginning\" or \"to the end\"."
   ]
  },
  {
   "cell_type": "code",
   "execution_count": null,
   "id": "d2a2db70-286d-4179-8400-c7ec4186285a",
   "metadata": {},
   "outputs": [],
   "source": [
    "sl[2:]"
   ]
  },
  {
   "cell_type": "code",
   "execution_count": null,
   "id": "b39b8640-d4bc-486e-8660-28cce8bcf06e",
   "metadata": {},
   "outputs": [],
   "source": [
    "This slices from element 2 until the end.<br>\n",
    "\n",
    "We can use the step feature as well, with a second colon:"
   ]
  },
  {
   "cell_type": "code",
   "execution_count": null,
   "id": "f143822a-ff60-4779-be0f-00517f5fe585",
   "metadata": {},
   "outputs": [],
   "source": [
    "sl[1::2]"
   ]
  },
  {
   "cell_type": "markdown",
   "id": "d0f8dbcd-896d-4800-91ff-2a800e492200",
   "metadata": {},
   "source": [
    "This slice starts from element 1 goes until the end, only returning every second item.\n",
    "\n",
    "So far we've been accessing list elements by index, but what if we want to find out what the index is of a particular list element? (Particularly handy if we have very long lists.)  We accomplish this using the ```index()``` command, with the syntax ```listname.index(element_name)```.  If we wanted to know what the index of ```'cherries'``` from the list ```sl``` is, we would write:"
   ]
  },
  {
   "cell_type": "code",
   "execution_count": null,
   "id": "85dc10db-41f1-4d15-8841-efe8fc22b4c0",
   "metadata": {},
   "outputs": [],
   "source": [
    "sl.index('cherries')"
   ]
  },
  {
   "cell_type": "markdown",
   "id": "62a881a5-0079-49fc-9b27-6d48253cc22f",
   "metadata": {},
   "source": [
    "One issue with this is that it will only return the index of the *first* occurrence of the item you ask for."
   ]
  },
  {
   "cell_type": "code",
   "execution_count": null,
   "id": "b519565d-cb20-4a83-997a-f80aaeefb4f9",
   "metadata": {},
   "outputs": [],
   "source": [
    "repeat = [14, 15, 16, 16, 17]\n",
    "repeat.index(16)"
   ]
  },
  {
   "cell_type": "markdown",
   "id": "3277e264-bc5c-4e8f-aca8-6c6a51316565",
   "metadata": {},
   "source": [
    "How would we write code that would give us a list of all of the indices of the occurrences of 16 in the list called ```repeat```?"
   ]
  },
  {
   "cell_type": "markdown",
   "id": "b0718f86-e8dc-44fd-9274-876e7b18375d",
   "metadata": {},
   "source": [
    "### Replacing and adding list elements\n",
    "\n",
    "We access a list element by calling ```listname[index_number]```, but we can also use this syntax to redefine list elements.  If we use the list ```l``` above, and wanted to replace the second element with the string ```'lantern'```, we would write:"
   ]
  },
  {
   "cell_type": "code",
   "execution_count": null,
   "id": "742d3b67-7ddf-4f46-97d3-3ae249fe25df",
   "metadata": {},
   "outputs": [],
   "source": [
    "l[1] = 'lantern'\n",
    "l"
   ]
  },
  {
   "cell_type": "markdown",
   "id": "9ee5b12f-b3d5-4147-a57b-d049d6948bf2",
   "metadata": {},
   "source": [
    "This is the same syntax we use for defining a variable.  But what if we wanted to add something new to the list?  There are a few options here:\n",
    "1. We can use Python's `append` command to tack on whatever we want to the end of the list.  This operation is performed \"in place\", meaning our list is redefined to be a list with all of our old elements, and then with the new element at the end.\n",
    "2. We can concatenate two lists together using `+`, i.e.: we can define a new list which is the old list + another list containing the new element(s) we want added."
   ]
  },
  {
   "cell_type": "code",
   "execution_count": null,
   "id": "1b75b272-7628-4105-805d-fe7389d2192c",
   "metadata": {},
   "outputs": [],
   "source": [
    "l = [1, 2, 3, 4]\n",
    "l.append(5)\n",
    "l"
   ]
  },
  {
   "cell_type": "code",
   "execution_count": null,
   "id": "c93e342a-553c-4a09-b0bd-30c6cb6b90bf",
   "metadata": {},
   "outputs": [],
   "source": [
    "m = [1, 2, 3, 4]\n",
    "newlist = m + [5]\n",
    "newlist"
   ]
  },
  {
   "cell_type": "markdown",
   "id": "da25a84b-ec63-463b-8d8c-8fbb5b576770",
   "metadata": {},
   "source": [
    "It's important to remember that the element `5` we're adding to the list must itself be in a list.  If we tried to just add the number 5, we get the error message:"
   ]
  },
  {
   "cell_type": "code",
   "execution_count": null,
   "id": "3233f094-e793-4e37-abbe-a7236449f84d",
   "metadata": {},
   "outputs": [],
   "source": [
    "m+5"
   ]
  },
  {
   "cell_type": "markdown",
   "id": "30b12451-1b53-4228-9652-8e268f8efbaa",
   "metadata": {},
   "source": [
    "We can also concatenate copies of a list onto itself a set number of times by using *:"
   ]
  },
  {
   "cell_type": "code",
   "execution_count": null,
   "id": "e94cb00d-8df9-4784-8e5d-c0baf5770040",
   "metadata": {},
   "outputs": [],
   "source": [
    "m * 3"
   ]
  },
  {
   "cell_type": "markdown",
   "id": "2fcdfbfa-3e97-445a-a8c3-3183e28b322c",
   "metadata": {},
   "source": [
    "This is especially handy when you want a list of size `n` that all contain the same element.  For example, if we wanted a list of all 1s, whose length was 50, we could easily write:"
   ]
  },
  {
   "cell_type": "code",
   "execution_count": null,
   "id": "13bdb421-5013-4549-9135-8075f0316b32",
   "metadata": {},
   "outputs": [],
   "source": [
    "ones = [1]*50\n",
    "print(ones)"
   ]
  },
  {
   "cell_type": "markdown",
   "id": "251fb2fc-1894-42ad-8e74-5203ac229795",
   "metadata": {},
   "source": [
    "Let's do an exercise where we expand our list `sl` to include kiwis, pineapples, grapes, and tomatoes."
   ]
  },
  {
   "cell_type": "code",
   "execution_count": null,
   "id": "c383a0df-a982-441b-bd60-207d838b1eba",
   "metadata": {},
   "outputs": [],
   "source": [
    "sl = ['apples', 'pears', 'oranges', 'cherries', 'grapefruits', 'pomegranates']"
   ]
  },
  {
   "cell_type": "markdown",
   "id": "0e0478cb-a129-4285-8f5e-3c7db9ae3d3e",
   "metadata": {},
   "source": [
    "### List sorting\n",
    "\n",
    "The order of elements in a list matters, but what if it's not in the order we want it?  Python comes with a few list sorting options, that usually follows alphabetical or numerical rules.  For Python 3, the common tool is the ```sorted()``` function.  If we pass a list of comparable elements (can we compare strings and numbers?), it will produce a list in numerical or alphabetical order."
   ]
  },
  {
   "cell_type": "code",
   "execution_count": null,
   "id": "e32d9ead-3c30-41e2-9c8f-d04ec4f4d7a6",
   "metadata": {},
   "outputs": [],
   "source": [
    "ln = [2, -5, 10, 7, 3, 5]\n",
    "sorted(ln)"
   ]
  },
  {
   "cell_type": "code",
   "execution_count": null,
   "id": "f07d9a78-c743-4714-96a8-b8f180725bc8",
   "metadata": {},
   "outputs": [],
   "source": [
    "lm = ['apples', 'pears', 'oranges', 'cherries', 'grapefruits', 'pomegranates']\n",
    "sorted(lm)"
   ]
  },
  {
   "cell_type": "code",
   "execution_count": null,
   "id": "8f44ad9e-236c-4218-9a6a-78af99529e2c",
   "metadata": {},
   "outputs": [],
   "source": [
    "lm"
   ]
  },
  {
   "cell_type": "markdown",
   "id": "6357007e-f874-4ba5-8c14-0895b7be2ecf",
   "metadata": {},
   "source": [
    "We can also call `.sort()` on a list directly, which operates in place:"
   ]
  },
  {
   "cell_type": "code",
   "execution_count": null,
   "id": "46d8f818-864e-4028-ad66-9fcb4f95f36f",
   "metadata": {},
   "outputs": [],
   "source": [
    "lm.sort()\n",
    "lm"
   ]
  },
  {
   "cell_type": "markdown",
   "id": "bedbf89e-0cec-47b0-97d0-16a555405ea9",
   "metadata": {},
   "source": [
    "What would happen if we tried to sort the following two lists?"
   ]
  },
  {
   "cell_type": "code",
   "execution_count": null,
   "id": "2b1e04e5-ae7e-4056-9efd-3fe5de808c27",
   "metadata": {},
   "outputs": [],
   "source": [
    "test1 = [1, 3, 0, True, 10, 3.5, False]"
   ]
  },
  {
   "cell_type": "code",
   "execution_count": null,
   "id": "4384d772-b57a-4854-8fd2-330575b091a1",
   "metadata": {},
   "outputs": [],
   "source": [
    "test2 = [1, '2', 3, '4', 5, 'A']"
   ]
  },
  {
   "cell_type": "markdown",
   "id": "4fcd5d83-5b42-48d3-9e2d-4c297f3c7773",
   "metadata": {},
   "source": [
    "For test2, what could we do to create a new list which first has the sorted integers, and then has the sorted strings?"
   ]
  },
  {
   "cell_type": "code",
   "execution_count": null,
   "id": "ecc26b73-973d-4647-9e90-d54d4fe2598b",
   "metadata": {},
   "outputs": [],
   "source": [
    "test2_sorted ="
   ]
  },
  {
   "cell_type": "markdown",
   "id": "16fbc78a-c4a4-4f08-98b2-4cbda4d2ea6b",
   "metadata": {},
   "source": [
    "### Mutability\n",
    "\n",
    "Lists are mutable, meaning that we can change objects. We need to be careful when assigning lists to variables. By default, Python does not copy the list, but instead points to the same list in memory:"
   ]
  },
  {
   "cell_type": "code",
   "execution_count": null,
   "id": "fd61efab-38d1-41e0-b915-761433a2f95e",
   "metadata": {},
   "outputs": [],
   "source": [
    "my_list = [1, 2, 3]\n",
    "a = my_list\n",
    "my_list[1] = 5\n",
    "print(my_list)\n",
    "print(a)"
   ]
  },
  {
   "cell_type": "markdown",
   "id": "215606ae-cdd1-4cf2-bde5-4d0acaa4ff21",
   "metadata": {},
   "source": [
    "Some objects are immutable, meaning they cannot be modified. Strings have this property:"
   ]
  },
  {
   "cell_type": "code",
   "execution_count": null,
   "id": "647a4549-b35d-46e0-bbaf-5d4ab74a7dff",
   "metadata": {},
   "outputs": [],
   "source": [
    "my_str = 'abc'\n",
    "my_str[1] = 'd'"
   ]
  },
  {
   "cell_type": "markdown",
   "id": "6c7c513b-b824-465e-86b1-55baf4f12ccf",
   "metadata": {},
   "source": [
    "As we saw, we can add to lists, using the append method. Be aware, methods on mutable objects will often operate in place. There are many more list methods we will cover as we continue - you can take a look using tab completion in notebooks.\n",
    "\n",
    "This means we don't have to reassign the object, but also that we have side effects, as we saw above:"
   ]
  },
  {
   "cell_type": "code",
   "execution_count": null,
   "id": "9a0630b1-21f0-49b0-8ec2-003a9a3dbfd9",
   "metadata": {},
   "outputs": [],
   "source": [
    "mylist = [1, 2, 3]\n",
    "mylist2 = mylist.append(4)\n",
    "print(mylist2)  # huh, None\n",
    "print(mylist)"
   ]
  },
  {
   "cell_type": "markdown",
   "id": "5e99552e-68e5-4e5b-909c-aabebb488fd9",
   "metadata": {},
   "source": [
    "## Dictionaries\n",
    "\n",
    "Dictionaries are similar to lists in that they're indexed collections of data.  The main difference, however, is that order does not matter in a dictionary.  So if order doesn't matter, how do we keep track of the data?  The answer is with *keys*. Dictionaries are enclosed in braces `{}`, and follow the syntax: `dictname = {key1:value1, key2:,value2, ...}`\n",
    "\n",
    "\n",
    "Here, the `keys` are the index we're choosing, which can be integers, floats, or strings.  The `values` can be any other Python object we want, like numbers, lists, strings, other dictionaries, dataframes, etc.  One restriction is that keys must be unique; values can be repeated as many times as you like.  Here is an example dictionary, where the keys are the names of students, and the values are their midterm marks."
   ]
  },
  {
   "cell_type": "code",
   "execution_count": null,
   "id": "751ffbf7-936e-46a6-90df-20ee5fd2eb53",
   "metadata": {},
   "outputs": [],
   "source": [
    "midterm_marks = {\n",
    "    'Olivier': 86,\n",
    "    'Juan': 95,\n",
    "    'Yasi': 92,\n",
    "    'Xiao': 97,\n",
    "    'Janelle': 89\n",
    "}"
   ]
  },
  {
   "cell_type": "markdown",
   "id": "58bd8d34-a031-4445-aa4d-c1f9907189a5",
   "metadata": {},
   "source": [
    "If we wanted to access the value of a particular key, the syntax is the same as calling the index of a list item: ```dictname[key]```.  So to access Ivan's mark, we write:"
   ]
  },
  {
   "cell_type": "code",
   "execution_count": null,
   "id": "adbf21dd-fb72-446d-ace3-26aefd02502a",
   "metadata": {},
   "outputs": [],
   "source": [
    "midterm_marks['Yasi']"
   ]
  },
  {
   "cell_type": "markdown",
   "id": "5c8051df-8f44-4d8b-b87b-0b86b3d5ed60",
   "metadata": {},
   "source": [
    "If we had a dictionary with many keys and wanted to access them, we can use the `dictname.keys()` command.  Similarly, we can call the values with `dictname.values()`:"
   ]
  },
  {
   "cell_type": "code",
   "execution_count": null,
   "id": "7cf099e7-8597-4a1d-bf5d-ba07a3408917",
   "metadata": {},
   "outputs": [],
   "source": [
    "midterm_marks.keys()"
   ]
  },
  {
   "cell_type": "code",
   "execution_count": null,
   "id": "3b511b25-9b6f-48af-887a-86a71e3b4022",
   "metadata": {},
   "outputs": [],
   "source": [
    "midterm_marks.values()"
   ]
  },
  {
   "cell_type": "markdown",
   "id": "27bf8717-7225-42d2-a384-10798da118f7",
   "metadata": {},
   "source": [
    "If we wanted both the keys and values, we can use the ```.items()``` command:"
   ]
  },
  {
   "cell_type": "code",
   "execution_count": null,
   "id": "9ff85955-b1a6-4ce2-91db-52c6906ccb72",
   "metadata": {},
   "outputs": [],
   "source": [
    "midterm_marks.items()"
   ]
  },
  {
   "cell_type": "markdown",
   "id": "27dbeb4e-920e-45af-8139-d58a6e9b3616",
   "metadata": {},
   "source": [
    "This returns a special `dict_items` object, which is basically a list of tuples, where each tuple is a key-value pair. _(Note: A tuple is another Python container type, like a list, but its values cannot be modified after creation. It is denoted with round brackets instead of square ones.)_"
   ]
  },
  {
   "cell_type": "code",
   "execution_count": null,
   "id": "7631181d-cbbd-42d6-9023-68a1ed2081de",
   "metadata": {},
   "outputs": [],
   "source": [
    "list(midterm_marks.items())"
   ]
  },
  {
   "cell_type": "markdown",
   "id": "6ff01046-fdcb-483d-90c3-ed3187edcdbd",
   "metadata": {},
   "source": [
    "### Updating key values, adding new key values\n",
    "Adding new entries, and updating previous entries are handled via the same syntax as with lists.  If we wanted to add Tyler's mark of 90 to the midterm marks, we'd write:"
   ]
  },
  {
   "cell_type": "code",
   "execution_count": null,
   "id": "951f2f06-4b7c-46b3-994b-6a3b00d2e860",
   "metadata": {},
   "outputs": [],
   "source": [
    "midterm_marks['Tyler'] = 90\n",
    "midterm_marks"
   ]
  },
  {
   "cell_type": "markdown",
   "id": "5da1dbc6-c2bc-47dc-a968-70d510b49f47",
   "metadata": {},
   "source": [
    "If it turns out that Patrick's mark was actually 89, how would we change it?"
   ]
  },
  {
   "cell_type": "markdown",
   "id": "db6605cd-bb94-4b04-91a3-befbfbaef215",
   "metadata": {},
   "source": [
    "We can use the ```sorted()``` function with dictionaries too.  Calling it on the keys or the values of the dictionary will produce a list that's sorted, assuming you can compare the entries:"
   ]
  },
  {
   "cell_type": "code",
   "execution_count": null,
   "id": "7ffc0864-d042-4fb6-9290-d08fbfa78baa",
   "metadata": {},
   "outputs": [],
   "source": [
    "sorted(midterm_marks)"
   ]
  },
  {
   "cell_type": "code",
   "execution_count": null,
   "id": "cab402a9-3579-4d6d-9c67-db363206038c",
   "metadata": {},
   "outputs": [],
   "source": [
    "sorted(midterm_marks.values())"
   ]
  },
  {
   "cell_type": "markdown",
   "id": "b8279846-e72e-42de-aa7b-8221e64a03ac",
   "metadata": {},
   "source": [
    "Say we wanted to find the name of the person with the highest mark. How would we do this? (There are lots of right answers.)"
   ]
  },
  {
   "cell_type": "markdown",
   "id": "bffa1208-a95b-4d58-a420-61a3e68177cb",
   "metadata": {},
   "source": [
    "To show issues with trying to define non-unique keys, consider the following example:"
   ]
  },
  {
   "cell_type": "code",
   "execution_count": null,
   "id": "0ee2a794-337d-4099-a160-a52beeac9cc6",
   "metadata": {},
   "outputs": [],
   "source": [
    "bad = {'A': 1, 'B': 2, 'A': 3}"
   ]
  },
  {
   "cell_type": "code",
   "execution_count": null,
   "id": "d7e9b9f5-5c70-4b7a-99a8-ca78fd89ad56",
   "metadata": {},
   "outputs": [],
   "source": [
    "bad['A']"
   ]
  },
  {
   "cell_type": "markdown",
   "id": "042d169a-11c2-4271-a79b-dedd579793fa",
   "metadata": {},
   "source": [
    "Why does it show the value is 3?  Because the second time we defined `A`, Python overwrote the original definition.  This can be seen by looking at the actual dictionary:"
   ]
  },
  {
   "cell_type": "code",
   "execution_count": null,
   "id": "5e83e7e4-addb-483d-a824-9620982cfc27",
   "metadata": {},
   "outputs": [],
   "source": [
    "bad"
   ]
  },
  {
   "cell_type": "markdown",
   "id": "95158ef4-8f24-4156-a80e-12d541c7c820",
   "metadata": {},
   "source": [
    "### Looping\n",
    "\n",
    "Sometimes we want to repeat an action multiple times, or for multiple objects. One way of doing this is simply to copy and paste elements of our code:"
   ]
  },
  {
   "cell_type": "code",
   "execution_count": null,
   "id": "9f04a595-6bbf-4dc0-bd34-a7b363792cf6",
   "metadata": {},
   "outputs": [],
   "source": [
    "my_str = 'apple'\n",
    "\n",
    "print(my_str[0])\n",
    "print(my_str[1])\n",
    "print(my_str[2])\n",
    "print(my_str[3])\n",
    "print(my_str[4])"
   ]
  },
  {
   "cell_type": "markdown",
   "id": "9d2187a0-b052-47af-b871-f28c7dba2fa2",
   "metadata": {},
   "source": [
    "We can be much more concise and avoid repetitive code by using a `for loop`, (something so common in programming that same exists in nearly every coding language):"
   ]
  },
  {
   "cell_type": "code",
   "execution_count": null,
   "id": "cabe2454-9e52-401a-a6b8-c13489dcf551",
   "metadata": {},
   "outputs": [],
   "source": [
    "for i in my_str:  # we can vary the name of i here\n",
    "    print(i)  # technically it is the `loop variable'\n",
    "\n",
    "# print(i)"
   ]
  },
  {
   "cell_type": "markdown",
   "id": "0e904230-7f79-451d-83b6-d3e7d2197fd1",
   "metadata": {},
   "source": [
    "The added benefit of this is that we can change the thing we are looping over without having to modify our code.\n",
    "\n",
    "Python can iterate over anything that is an 'iterable'. We will talk more about different types of iterables later on.\n",
    "\n",
    "Another common pattern is to make a numeric 'index' and loop over that:"
   ]
  },
  {
   "cell_type": "code",
   "execution_count": null,
   "id": "b5084bf8-8e19-466a-9b7e-7daf81ada870",
   "metadata": {},
   "outputs": [],
   "source": [
    "my_str2 = 'banana'\n",
    "myval = 0\n",
    "\n",
    "for i in range(len(my_str)):\n",
    "    print(my_str[i])\n",
    "    print(my_str2[i])\n",
    "    myval += 1\n",
    "\n",
    "print(myval)"
   ]
  },
  {
   "cell_type": "markdown",
   "id": "4a1698db-9478-48bd-986d-af17ed5cf52b",
   "metadata": {},
   "source": [
    "### Exercise\n",
    "\n",
    "1. What does the function `len` do?\n",
    "2. What does the function `range` do?\n",
    "3. Take a look at the following code:\n",
    "```\n",
    "a, b = 5, 10\n",
    "b, a = a, b\n",
    "```\n",
    "What are a and b equal to?\n",
    "\n",
    "4. What does enumerate do here?\n",
    "\n",
    "```python\n",
    "for i,j in enumerate(my_str):\n",
    "    print(j)\n",
    "    print(my_str[i])\n",
    "```\n",
    "\n",
    "5. Create a loop, which loops over a list to calculate a polynomial:\n",
    "\n",
    "```python\n",
    "x = 5\n",
    "factors = [1,2,3]\n",
    "```\n",
    "\n",
    "This should return us the output of the following computation: `1*x**0 + 2*x**1 + 3*x**2`\n",
    "\n",
    "Make it work with `x = 8` and `[8,7,6,5,4,4,2,1]`"
   ]
  },
  {
   "cell_type": "markdown",
   "id": "0d389c98-fb60-4447-984f-ee4f2b75c69e",
   "metadata": {},
   "source": [
    "### Conditionals\n",
    "\n",
    "We sometimes want to carry out different operations depending on certain conditions.\n",
    "\n",
    "In this case, we can use `if`, `else` and `while` clauses."
   ]
  },
  {
   "cell_type": "code",
   "execution_count": null,
   "id": "c18ca9bd-d690-40c4-9e9f-f517459b49d2",
   "metadata": {},
   "outputs": [],
   "source": [
    "for i in [1, 2, 3, 4, 5]:\n",
    "    if i % 2 == 0:\n",
    "        print('even')\n",
    "    else:\n",
    "        print('odd')"
   ]
  },
  {
   "cell_type": "markdown",
   "id": "7d24ef37-d170-4140-a067-eae57217b0a6",
   "metadata": {},
   "source": [
    "In this loop, we set `i` to be equal to each element in turn, find the remainder when divided by 2, and see if the remainder is equal to 1.\n",
    "\n",
    "We test equality using `==` in python, because a single `=` denotes assignment.\n",
    "\n",
    "Notice the indentation, this is the same as when we carried out `for loops`. While you can indent indefinitely, it's generally bad practice to end up more than 4 loops in, as you probably can't follow it in your internal python repo anymore.\n",
    "\n",
    "If we have more conditions, we can continue on using `elif`:"
   ]
  },
  {
   "cell_type": "code",
   "execution_count": null,
   "id": "23a2116d-c91f-47a7-b956-7030250998ff",
   "metadata": {},
   "outputs": [],
   "source": [
    "data = [1, 2, 3, 4, 5, 6, 7, 8, 9, 10, 11, 12, 13, 14, 15]\n",
    "\n",
    "for i in data:\n",
    "    if i % 3 == 0 and i % 5 == 0:\n",
    "        print('fizzbuzz')\n",
    "    elif i % 3 == 0:\n",
    "        print('fizz')\n",
    "    elif i % 5 == 0:\n",
    "        print('buzz')\n",
    "    else:\n",
    "        print(i)"
   ]
  },
  {
   "cell_type": "markdown",
   "id": "f5d1e484-3f4d-4474-b9e0-34d8c1902a03",
   "metadata": {},
   "source": [
    "We could also have written this as:"
   ]
  },
  {
   "cell_type": "code",
   "execution_count": null,
   "id": "13076915-b171-4550-85e1-0bd145ca221d",
   "metadata": {},
   "outputs": [],
   "source": [
    "for i in data:\n",
    "    if i % 3 == 0:\n",
    "        if i % 5 == 0:\n",
    "            print('fizzbuzz')\n",
    "        else:\n",
    "            print('fizz')\n",
    "    elif i % 5 == 0:\n",
    "        print('buzz')\n",
    "    else:\n",
    "        print(i)"
   ]
  },
  {
   "cell_type": "markdown",
   "id": "bf60e055-0527-4198-ae6c-3a608625ef3f",
   "metadata": {},
   "source": [
    "This is an answer to the infamous fizzbuzz test, which varying percentages of programmers (depending on who you listen to) cannot answer in an interview.\n",
    "\n",
    "\n",
    "We are evaluating the clause after `if` or `elif`, to see its boolean representation:"
   ]
  },
  {
   "cell_type": "code",
   "execution_count": null,
   "id": "3713b8a3-fa74-41b0-a3c5-6684216bf4d8",
   "metadata": {},
   "outputs": [],
   "source": [
    "print(1 % 2 == 0)\n",
    "print(1 % 2 == 0 or 2 % 2 == 0)\n",
    "print(1 % 2 == 0 and 2 % 2 == 0)\n",
    "print(not 1 % 2 == 0)"
   ]
  },
  {
   "cell_type": "markdown",
   "id": "b45f7b08-ac75-4d41-ad6a-d87b02163bcd",
   "metadata": {},
   "source": [
    "### Functions\n",
    "\n",
    "So far, we have simply used loops to carry out our analysis. What if we want to make our own functions?\n",
    "\n",
    "We can define our own functions!\n",
    "\n",
    "Here is the basic syntax for writing a function in Python:"
   ]
  },
  {
   "cell_type": "code",
   "execution_count": null,
   "id": "a035e27e-5ccf-41a8-9d54-3665bd8f50c5",
   "metadata": {},
   "outputs": [],
   "source": [
    "def my_function(my_argument_a, my_argument_b):\n",
    "    '''\n",
    "    docstring\n",
    "    '''\n",
    "    output = my_argument_a + my_argument_b\n",
    "\n",
    "    return output"
   ]
  },
  {
   "cell_type": "markdown",
   "id": "682f4fd0-8faf-48ff-bba1-3518a83d2f32",
   "metadata": {},
   "source": [
    "Let's write some functions for performing temperature conversions:"
   ]
  },
  {
   "cell_type": "code",
   "execution_count": null,
   "id": "967debbe-cd52-4c26-94e6-d5638268fbc9",
   "metadata": {},
   "outputs": [],
   "source": [
    "def convert_f_to_c(degf):\n",
    "    '''\n",
    "    converts fahrenheit to celsius\n",
    "    '''\n",
    "    degc = (degf - 32) * 5/9\n",
    "    return degc\n",
    "\n",
    "\n",
    "def convert_c_to_k(degc):\n",
    "    '''\n",
    "    converts celsius to kelvin\n",
    "    '''\n",
    "    degk = degc - 273\n",
    "    return degk"
   ]
  },
  {
   "cell_type": "code",
   "execution_count": null,
   "id": "0a629070-799b-418d-a35c-62705a47be40",
   "metadata": {},
   "outputs": [],
   "source": [
    "def convert_f_to_k(degf):\n",
    "    degc = convert_f_to_c(degf)\n",
    "    degk = convert_c_to_k(degc)\n",
    "    return degk"
   ]
  },
  {
   "cell_type": "markdown",
   "id": "f3a0b51f-2954-4e0e-a8c6-2dea3fd92d79",
   "metadata": {},
   "source": [
    "We can now access these functions the same as any others in Python. We can also use tab completion, even Python's `help` command will work on our function if we filled out its docstring:"
   ]
  },
  {
   "cell_type": "code",
   "execution_count": null,
   "id": "9f13edd8-baa8-4d1e-ab5f-b126166c9016",
   "metadata": {},
   "outputs": [],
   "source": [
    "help(convert_f_to_c)"
   ]
  },
  {
   "cell_type": "markdown",
   "id": "2de206d3-778b-478d-b4f8-83f50f7926ef",
   "metadata": {},
   "source": [
    "Let's test our functions to ensure we get sensible values:"
   ]
  },
  {
   "cell_type": "code",
   "execution_count": null,
   "id": "6632df73-95f4-4138-8f28-c84afc72d83a",
   "metadata": {},
   "outputs": [],
   "source": [
    "print(convert_f_to_c(100))\n",
    "print(convert_f_to_c(0))\n",
    "print(convert_f_to_c(-40))\n",
    "print(convert_f_to_k(-40))"
   ]
  },
  {
   "cell_type": "markdown",
   "id": "cee5c0ec-1fee-49c9-8a5e-8a882b96dc53",
   "metadata": {},
   "source": [
    "Functions are 'scoped' locally. This means they won't modify anything outside them unless we try:"
   ]
  },
  {
   "cell_type": "code",
   "execution_count": null,
   "id": "4eed5656-c823-42f7-bfba-02ab26029efc",
   "metadata": {},
   "outputs": [],
   "source": [
    "x = 55\n",
    "\n",
    "\n",
    "def my_func(z):\n",
    "    # global x\n",
    "    # probably don't do this.....\n",
    "    x = 12\n",
    "    return z + x\n",
    "\n",
    "\n",
    "print(my_func(33))\n",
    "print(x)"
   ]
  },
  {
   "cell_type": "markdown",
   "id": "cf6e47b5-b54e-4026-9501-2e1b2ac86f1b",
   "metadata": {},
   "source": [
    "However, watch out for mutable objects:"
   ]
  },
  {
   "cell_type": "code",
   "execution_count": null,
   "id": "acb23fff-be29-482e-9888-5210197eaa6b",
   "metadata": {},
   "outputs": [],
   "source": [
    "def my_func(mylist):\n",
    "    mylist.append(5)\n",
    "    return 12\n",
    "\n",
    "\n",
    "x = [1, 2, 3, 4]\n",
    "\n",
    "my_func(x)\n",
    "print(x)"
   ]
  },
  {
   "cell_type": "markdown",
   "id": "f19dfdc7",
   "metadata": {},
   "source": [
    "# Python Documentation\n",
    "\n",
    "Python has a lot of built-in functions and methods. You can find the official documentation at https://docs.python.org/3/. This is a great resource for finding out what you can do with Python."
   ]
  }
 ],
 "metadata": {
  "kernelspec": {
   "display_name": "Python 3 (ipykernel)",
   "language": "python",
   "name": "python3"
  },
  "language_info": {
   "codemirror_mode": {
    "name": "ipython",
    "version": 3
   },
   "file_extension": ".py",
   "mimetype": "text/x-python",
   "name": "python",
   "nbconvert_exporter": "python",
   "pygments_lexer": "ipython3",
   "version": "3.11.6"
  }
 },
 "nbformat": 4,
 "nbformat_minor": 5
}
