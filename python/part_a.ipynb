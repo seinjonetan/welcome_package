{
 "cells": [
  {
   "cell_type": "markdown",
   "id": "d8ffacfb-ba90-4d88-acfc-245d7d439fae",
   "metadata": {},
   "source": [
    "# MFRE Summer Python Prep Course"
   ]
  },
  {
   "cell_type": "markdown",
   "id": "c2da803d-36f8-48c4-850e-19c2d35f1b36",
   "metadata": {},
   "source": [
    "Dear **MFRE Students**, \n",
    "\n",
    "As you embark on an exciting and challenging journey in the MFRE Program, this notebook will serve as your foundational guide. It is designed to prepare you for the more intensive aspects of the program and ensure you have a solid understanding of the core concepts we will explore further.\n",
    "\n",
    "you are required to review this notebook thoroughly. It contains foundation material critical to your success in the upcoming summer Python workshop. As you work through the contents, please take the time to jot down any questions or areas of uncertainty. \n",
    "\n",
    "\n",
    "## Jupyter Notebooks\n",
    "\n",
    "This tutorial, as most of the course, is written in Jupyter Notebooks (formerly iPython Notebooks).  These notebooks are run through your browser, and contain individual blocks.  If you run code in a block, the notebook will remember what has been run (until you shut down or restart), meaning any subsequent blocks will retain values, function definitions, etc., from previously run blocks.  They're also handy for instruction, as we can write text (like this!).\n",
    "\n",
    "If you are running code, the block will show you a number in brackets on the left side, to tell you the number in the sequence that block had been run.  If the code you run has an output, the output will be displayed below the block.  You can run an individual block by selecting it, and pressing CTRL-ENTER.  To run the block, and then place the selection on the block below, press SHIFT-ENTER.  To create a new block below the currently selected block, press B.\n",
    "\n",
    "Here is a code example:"
   ]
  },
  {
   "cell_type": "code",
   "execution_count": null,
   "id": "dc988148-c4fa-471f-b4a2-cf849ba5c944",
   "metadata": {},
   "outputs": [],
   "source": [
    "x=5\n",
    "y=3\n",
    "x+y"
   ]
  },
  {
   "cell_type": "markdown",
   "id": "d01cb2ba-3ef5-4f87-8dc3-3dcdec9c5fcf",
   "metadata": {},
   "source": [
    "# Section 1 - Introduction to Python"
   ]
  },
  {
   "cell_type": "markdown",
   "id": "51da6751-e521-4dfa-9a61-7436606ed36a",
   "metadata": {},
   "source": [
    "Python is one of the most widely used programming languages, finding extensive use both in industry as well as in academia.  It focuses on readability of code, with a relatively straightforward syntax that allows for more compact coding"
   ]
  },
  {
   "cell_type": "markdown",
   "id": "a945edaf-18a1-4ab8-8bf4-97c267e3bb15",
   "metadata": {},
   "source": [
    "## Writing Python\n",
    "\n",
    "Before looking at any Python, there are some key terms that need to be defined.\n",
    "\n",
    "**Syntax**:\n",
    "\n",
    "This is the set of rules and symbols used to correctly structure a program for a specific language. In the English language this is referred to as grammar. Essentially, it's making sure that periods, commas, words, etc., are all in the right place so that a computer can understand what you are trying to tell it.\n",
    "\n",
    "**Expression**:\n",
    "\n",
    "An expression is any combination of symbols that represent a value. We will see this more when covering variables and types. An expression would be something like \"3 < 5\".  In code, what this \"expresses\" is \"3 is less than 5\".\n",
    "\n",
    "**Statement**:\n",
    "\n",
    "A statement is the smallest standalone element of a language that \"says something\". Common examples you will see include If-Then statments, as well as For and While loops.\n",
    "\n",
    "*Note: Many words that have a definition in english that you are used to may have a completely different meaning in computer programming. The three words above are examples of that. If at any point something doesn't make sense try google that word with the word \"computer science\" following it, like \"expression computer science\".*\n",
    "\n",
    "**Comments**:\n",
    "\n",
    "When a developer takes on a large project, they are often working with a huge code base and with other developers. It is important to understand code when you come back to it or when other developers need to use it. One way we can achieve this is through comments.  In Python, single lines are commented by placing a # symbol at the beginning of the comment.  Python will ignore everything on a line that follows a #, meaning you can place a comment after code that will be run.  Here are two examples:"
   ]
  },
  {
   "cell_type": "code",
   "execution_count": null,
   "id": "5d40517c-d8e9-4f9e-852b-bd642a52a0a3",
   "metadata": {},
   "outputs": [],
   "source": [
    "# This is a single comment.\n",
    "\n",
    "3 < 5  # This comment will be ignored by the code."
   ]
  },
  {
   "cell_type": "markdown",
   "id": "df339db5-6fef-4a0e-94ea-04959f7bbd35",
   "metadata": {},
   "source": [
    "## Reading Code\n",
    "Writing code can be challenging enough, but the most confusing thing for those new to programming is predicting what code will do based on how it is written. When reading code for the first time, your best bet is to read it line by line, top to bottom to see what actions will be taken, and what references are made. It's important to note that the code when executed by the computer may not perform actions in the exact sequence you see: the program may make references to previous sections of code (like with functions), it may have a number of options presented and only take one particular path depending on what values it has been given (like with if statements), or it may take single lines of code and repeat them many times (like with loops). We'll see many examples of these throughout this unit. \n",
    "\n",
    "For now, just keep an open mind as how code is \"executed\". Practice tracing the steps through code when you are reading it to get comfortable with anticipating the outcome"
   ]
  },
  {
   "cell_type": "markdown",
   "id": "d0307032-e1af-45cf-ae12-a22815863601",
   "metadata": {},
   "source": [
    "## Writing Code\n",
    " This section will introduce the basic data types and keywords you will use to write all Python code. You will also be introduced to some of the basic syntax required for Python code to run properly. \n",
    "\n",
    "**Learning Objectives**\n",
    "\n",
    "You should obtain a good understanding of:\n",
    "\n",
    "* Variables, Types\n",
    "* Arithmetic Operators\n",
    "* Logical Operators\n",
    "* Control Flow, Loops\n",
    "* Comments"
   ]
  },
  {
   "cell_type": "markdown",
   "id": "5cbe5eb0-de30-4dd7-bdfb-d47243d62289",
   "metadata": {},
   "source": [
    "### Variables\n",
    "\n",
    "The variable is one of the most fundamental and important things in programming.  A variable is a *container*, in which we can store a *value*.  The variable is defined using a name; any time we reference that name after it's been defined, the computer will remember what value we have stored in it.  There are different types of values that we will see soon, but for now let us use numbers as an example.  We assign a value to a variable name using ```=```"
   ]
  },
  {
   "cell_type": "code",
   "execution_count": null,
   "id": "21873409-90f5-4543-b857-08822b05a352",
   "metadata": {},
   "outputs": [],
   "source": [
    "x = 5"
   ]
  },
  {
   "cell_type": "markdown",
   "id": "9c15160e-d0e9-4518-b1db-1877af919a43",
   "metadata": {},
   "source": [
    "We've stored the value of 5 in the variable name ```x```.  If we were to reference ```x``` later, the computer will remember the value stored in it:"
   ]
  },
  {
   "cell_type": "code",
   "execution_count": null,
   "id": "7c3ec099-0b4e-466b-b689-dc2396ea0a54",
   "metadata": {},
   "outputs": [],
   "source": [
    "x"
   ]
  },
  {
   "cell_type": "markdown",
   "id": "35cb76a8-46a8-45c0-91a0-a878ef3145af",
   "metadata": {},
   "source": [
    "We can use the variable's name while performing various actions.  Adding ```x``` to another number:"
   ]
  },
  {
   "cell_type": "code",
   "execution_count": null,
   "id": "42519031-a7fb-4dbc-a7ba-835636a60dba",
   "metadata": {},
   "outputs": [],
   "source": [
    "x+2"
   ]
  },
  {
   "cell_type": "markdown",
   "id": "ed27fe1e-a17f-42c1-a439-8ef36385e47a",
   "metadata": {},
   "source": [
    "At any point, we can re-assign the variable's value by re-defining it.  Any references to the variable after this re-assignment will use the new value."
   ]
  },
  {
   "cell_type": "code",
   "execution_count": null,
   "id": "8ee06915-1595-4f7a-8483-4195dcdb49be",
   "metadata": {},
   "outputs": [],
   "source": [
    "x = 1\n",
    "x+2"
   ]
  },
  {
   "cell_type": "markdown",
   "id": "f58b78e3-8850-4b36-af4e-7ca132ed7336",
   "metadata": {},
   "source": [
    "We can do the same with two variables, and see how re-defining them changes later outputs."
   ]
  },
  {
   "cell_type": "code",
   "execution_count": null,
   "id": "cd0248e6-1eba-43c8-95be-41c64491080f",
   "metadata": {},
   "outputs": [],
   "source": [
    "x = 1\n",
    "y = 2\n",
    "x+y"
   ]
  },
  {
   "cell_type": "code",
   "execution_count": null,
   "id": "a168dd9d-3f5e-4db0-954e-f84269e62731",
   "metadata": {},
   "outputs": [],
   "source": [
    "x=3\n",
    "x+y"
   ]
  },
  {
   "cell_type": "markdown",
   "id": "3a6a2e9b-62d7-433e-a262-5e5406423f25",
   "metadata": {},
   "source": [
    "We can use variables in the creation of other variables as well:"
   ]
  },
  {
   "cell_type": "code",
   "execution_count": null,
   "id": "e1a49425-b861-4c96-9d14-89ca4065a705",
   "metadata": {},
   "outputs": [],
   "source": [
    "x = 2\n",
    "y = x + 5\n",
    "y"
   ]
  },
  {
   "cell_type": "markdown",
   "id": "c52a2e5a-5c70-4d01-a6f4-dbd9f347a8f7",
   "metadata": {},
   "source": [
    "If we change the value of x, does it affect the value of y as well? (Why or why not?)"
   ]
  },
  {
   "cell_type": "markdown",
   "id": "92bc7a4f-3262-4666-af77-2acccd87d285",
   "metadata": {},
   "source": [
    "x = 5\n",
    "y"
   ]
  },
  {
   "cell_type": "markdown",
   "id": "768ae5d6-c076-466a-adaa-8cf08259bbe4",
   "metadata": {},
   "source": [
    "One of the most interesting things we can do with variables is to re-define a variable by referencing itself. Here is an example:"
   ]
  },
  {
   "cell_type": "markdown",
   "id": "01b4c3a0-c4c1-4297-a192-842eeda7ec6d",
   "metadata": {},
   "source": [
    "Expressing these two operations in words:<br>\n",
    "1. ```Place the value 5 in the container called x.```<br>\n",
    "2. ```The new value of x will be defined as the old value of x, plus 2```<br>\n",
    "\n",
    "This is especially handy for things like loops, where we can re-define a variable on the fly."
   ]
  },
  {
   "cell_type": "code",
   "execution_count": 7,
   "id": "7eee6d50-20b0-4501-a5d8-36917e8a10d6",
   "metadata": {},
   "outputs": [],
   "source": [
    "x = 5\n",
    "x"
   ]
  },
  {
   "cell_type": "code",
   "execution_count": 8,
   "id": "750458dd-0ac2-4838-b023-a61e29aba363",
   "metadata": {},
   "outputs": [],
   "source": [
    "x= x+2\n",
    "x"
   ]
  },
  {
   "cell_type": "markdown",
   "id": "2c312be7-287e-4295-93ff-ecd20dca9566",
   "metadata": {},
   "source": [
    "### Values and Types\n",
    "\n",
    "With Python we group concepts like numbers, words, and decision making into a set of symbols the computer understands.  The computer needs to keep track of what kind of value an object is to be able to know what actions it can perform, as only certain actions will work with certain types. Here are three of the most common types we'll be seeing:\n",
    "\n",
    "1. **Numeric**.  There are two main types of numeric values, **integer (int)** and **float**.  An integer is a whole number that is either positive or negative (e.g.: 5, 10, -2, 3245). A float is a number with decimals (e.g. 12.217, -3.2, 0.111). \n",
    "2. **String**. A string is a sequence of characters. They have no inherent value other than just literally the characters in the order they appear.  They are denoted by putting quotations marks around symbols; examples include \"a\", \"xyzwp\", \"Hello World!\", and even numbers when placed in the quotations like \"1\".  (To be clear, 12 is an integer, \"12\" is a string.)\n",
    "3. **Boolean**. Booleans are ```True``` or ```False``` values.\n",
    "\n",
    "There are other types we will be seeing soon, such as lists, dictionaries, and dataframes.\n",
    "\n",
    "**Use**\n",
    "\n",
    "Numeric types are used for computation and storing numerical data (which we'll be seeing a lot of).  Strings are often used to keep track of information, like names.  Booleans are are predominantly used when evaluating conditionals - determining if a given statement is True or False; they are used to make smart code that helps with decision making, which we will see shortly."
   ]
  },
  {
   "cell_type": "code",
   "execution_count": null,
   "id": "1fbd72ed-ea3e-4e17-ad06-7a07fe16eb44",
   "metadata": {},
   "outputs": [],
   "source": [
    "x = 1 # an integer\n",
    "y = \"A\" # a string\n",
    "z = True # a boolean"
   ]
  },
  {
   "cell_type": "markdown",
   "id": "d0033c79-b9d5-4cb3-8d7a-6b3547c7ce6e",
   "metadata": {},
   "source": [
    "If you ever wish to check the type of a variable, you can call the function type().  Here is an example, with output:"
   ]
  },
  {
   "cell_type": "code",
   "execution_count": null,
   "id": "dc4a0852-ba67-44de-a48e-0174c8d4a626",
   "metadata": {},
   "outputs": [],
   "source": [
    "z = \"5\"\n",
    "type(z)"
   ]
  },
  {
   "cell_type": "markdown",
   "id": "d457ad36-e726-4471-8f5f-f5168725151a",
   "metadata": {},
   "source": [
    "We defined the variable z to be the string \"5\", and when we asked Python to check the type of z, it told us that it is a string.\n",
    "We can convert variables to other types with a few commands. For example, if we wanted to take the number 125 and convert it to a string:"
   ]
  },
  {
   "cell_type": "code",
   "execution_count": null,
   "id": "cdcfde5e-8bdf-4637-bf10-a34be8b33d37",
   "metadata": {},
   "outputs": [],
   "source": [
    "str(125)"
   ]
  },
  {
   "cell_type": "markdown",
   "id": "7f48a57d-b7c2-41ab-9b83-3b870d246226",
   "metadata": {},
   "source": [
    "If we had the string '20', and wanted to turn it into an integer, we'd write:"
   ]
  },
  {
   "cell_type": "code",
   "execution_count": null,
   "id": "4f587b12-b207-4888-96e6-bdd0a1cb380b",
   "metadata": {},
   "outputs": [],
   "source": [
    "int('20')"
   ]
  },
  {
   "cell_type": "markdown",
   "id": "62253428-1aeb-498d-8954-a77dc91bfc2e",
   "metadata": {},
   "source": [
    "Converting a float with a nontrivial decimal to an integer will remove all of the post-decimal information:"
   ]
  },
  {
   "cell_type": "code",
   "execution_count": null,
   "id": "0fab4e88-0d3c-48bb-b44c-2346a992fa7c",
   "metadata": {},
   "outputs": [],
   "source": [
    "int(7.9312345)"
   ]
  },
  {
   "cell_type": "markdown",
   "id": "a3687763-0945-418c-a329-c71710035417",
   "metadata": {},
   "source": [
    "Variable names don't have to be single characters; you can potentially name variables whatever you'd like:"
   ]
  },
  {
   "cell_type": "code",
   "execution_count": 9,
   "id": "14971bc6-148e-4526-a12e-5a238e9805a9",
   "metadata": {},
   "outputs": [],
   "source": [
    "x = 12\n",
    "total = 125.4\n",
    "names = 'Olivier, Yasi, Janelle, Xiao'\n",
    "I_want_this_variable_to_be_true = True"
   ]
  },
  {
   "cell_type": "code",
   "execution_count": null,
   "id": "2d9ecf2d-531c-40fa-9450-198c8f7a7ace",
   "metadata": {},
   "outputs": [],
   "source": [
    "names"
   ]
  },
  {
   "cell_type": "markdown",
   "id": "62fa0f6d-b2a7-44ed-81d2-a1ee0e491c0a",
   "metadata": {},
   "source": [
    "**Note**: It's generally good practice to not make outrageously long variable names, especially if you have to call them often.  Also, Python will give you an error if you try to name a variable after something Python already has a name for.  e.g.: you can't call a variable ```int```, because Python reserves that for the ```int``` type.<br>\n",
    "\n",
    "We can also convert variables to other types by using the variable type and parenthese"
   ]
  },
  {
   "cell_type": "code",
   "execution_count": null,
   "id": "f0aa4133-fb90-42cb-a603-295ae35f7d8c",
   "metadata": {},
   "outputs": [],
   "source": [
    "str(10)  # This converts the int 10 to the string '10'."
   ]
  },
  {
   "cell_type": "code",
   "execution_count": null,
   "id": "258c2f8d-2429-4b8c-b4b1-5a60aab8ef23",
   "metadata": {},
   "outputs": [],
   "source": [
    "int('5')"
   ]
  },
  {
   "cell_type": "markdown",
   "id": "576e8fe3-e06c-4ec0-b6d8-acc91b686860",
   "metadata": {},
   "source": [
    "As we saw, trying to convert a non-numeric character string to a number type will throw an error."
   ]
  },
  {
   "cell_type": "code",
   "execution_count": null,
   "id": "4441ed13-b193-4a5c-8e1e-dbac61832cfe",
   "metadata": {},
   "outputs": [],
   "source": [
    "int('ab')"
   ]
  },
  {
   "cell_type": "markdown",
   "id": "e9e92ae8-e24d-4bea-89db-93679c2038bc",
   "metadata": {},
   "source": [
    "What do you think happens to the type when we divide one integer by another? Even if one is divisible by the other?"
   ]
  },
  {
   "cell_type": "code",
   "execution_count": null,
   "id": "b8b4e2bd-a66f-4231-8f0c-fc88db48c998",
   "metadata": {},
   "outputs": [],
   "source": [
    "type(3/2)"
   ]
  },
  {
   "cell_type": "code",
   "execution_count": null,
   "id": "ede20e9e-9937-4480-8b08-71fc74c948cb",
   "metadata": {},
   "outputs": [],
   "source": [
    "type(5/2)"
   ]
  },
  {
   "cell_type": "markdown",
   "id": "78f69606-0678-4233-89a1-fb44ba972b0e",
   "metadata": {},
   "source": [
    "### Printing\n",
    "\n",
    "If we want to have the program output something, we can use the ```print``` function.  This function tells the program to take whatever value we give it, and then output that value so that we can see it."
   ]
  },
  {
   "cell_type": "code",
   "execution_count": null,
   "id": "8b3f28ed-c1b7-4dd5-9ef5-6254aaf934b8",
   "metadata": {},
   "outputs": [],
   "source": [
    "print('Hat.')"
   ]
  },
  {
   "cell_type": "code",
   "execution_count": null,
   "id": "b8573345-3a88-48b4-a5b6-57dcb7caf45f",
   "metadata": {},
   "outputs": [],
   "source": [
    "x = 5\n",
    "y = 3\n",
    "print('The value of x+y is',x+y)\n",
    "z = 2*x-y \n",
    "print(z)"
   ]
  },
  {
   "cell_type": "markdown",
   "id": "fd6cabf5-9a05-4132-86a1-68412fb6ea28",
   "metadata": {},
   "source": [
    "### Strings\n",
    "\n",
    "Strings are sequences of characters in a particular order.  The list of names we set to the variable ```names``` above is an example.  We can access individual characters by their numerical index.  As an important note, in computer science counting starts at 0 instead of 1.  So the *first* item has index 0, the *second* item has index 1, etc.<br>\n",
    "Given some string, we can access the $\\text{n}^\\text{th}$ character by putting ```n-1``` in square brackets after the variable name which contains the string."
   ]
  },
  {
   "cell_type": "code",
   "execution_count": null,
   "id": "ee3ea956-4eba-4746-b46d-3d999add1e41",
   "metadata": {},
   "outputs": [],
   "source": [
    "x = 'Hello World!'\n",
    "x[0] # the first character"
   ]
  },
  {
   "cell_type": "code",
   "execution_count": null,
   "id": "ecfe5401-7416-4b15-a627-2f2992fe8b4e",
   "metadata": {},
   "outputs": [],
   "source": [
    "x[4] # the fifth character"
   ]
  },
  {
   "cell_type": "markdown",
   "id": "53fb47db-05af-4dc3-98d5-6f77a9c592ce",
   "metadata": {},
   "source": [
    "We can access the characters in reverse order by putting a negative sign in front of the number.  So ```x[-1]``` will access the *last* character."
   ]
  },
  {
   "cell_type": "code",
   "execution_count": null,
   "id": "d25ecbe1-3f82-4162-90c8-949c73bc1359",
   "metadata": {},
   "outputs": [],
   "source": [
    "x[-1]"
   ]
  },
  {
   "cell_type": "markdown",
   "id": "e3ec2cdf-1bf9-4f98-b718-4829bac086ee",
   "metadata": {},
   "source": [
    "We can slice strings with ranges. The range will include the first index given (in computer science counting), but not include the last."
   ]
  },
  {
   "cell_type": "code",
   "execution_count": null,
   "id": "02190345-5d5b-43c7-bc1f-2e276494210c",
   "metadata": {},
   "outputs": [],
   "source": [
    "x[1:4]"
   ]
  },
  {
   "cell_type": "markdown",
   "id": "ff8e644f-1b5e-40e4-9d69-b835007fdef4",
   "metadata": {},
   "source": [
    "We can define a slicing range that includes a step; for example, we could take every second character in some range by calling:"
   ]
  },
  {
   "cell_type": "code",
   "execution_count": null,
   "id": "c5a2abb8-d27c-445d-b85d-f27fc58f9ca7",
   "metadata": {},
   "outputs": [],
   "source": [
    "x[0:6:2]"
   ]
  },
  {
   "cell_type": "markdown",
   "id": "b321f682-71ad-418c-8f06-cdf6d1d1ea65",
   "metadata": {},
   "source": [
    "The above includes the second, third, and fourth characters in the string (because index 1 corresponds to the second character, etc.).\n",
    "We can also slice using the negative indices."
   ]
  },
  {
   "cell_type": "markdown",
   "id": "55265299-7d50-434b-b562-c2eb92901d0b",
   "metadata": {},
   "source": [
    "If you leave the first or last index to slice blank, Python will assume you mean \"from the beginning\" or \"to the end\". Examples:"
   ]
  },
  {
   "cell_type": "code",
   "execution_count": null,
   "id": "38b7a2fa-4656-4361-9142-a5883ed7d349",
   "metadata": {},
   "outputs": [],
   "source": [
    "x[:7]"
   ]
  },
  {
   "cell_type": "code",
   "execution_count": null,
   "id": "ad4b464a-eafc-4971-ac2f-82ef0b56d390",
   "metadata": {},
   "outputs": [],
   "source": [
    "x[3:]"
   ]
  },
  {
   "cell_type": "markdown",
   "id": "c42debe3-80d9-4af5-b3e6-e09b74991e14",
   "metadata": {},
   "source": [
    "These methods of calling individual items by index and slicing out ranges will come up again when we start looking at data sets through lists, arrays, and dataframes.\n",
    "\n",
    "For the given string, how would we select the 12th character, and how would we slice from the second character to the third last character?"
   ]
  },
  {
   "cell_type": "code",
   "execution_count": null,
   "id": "125aed88-92ac-41f6-9b75-96535abae84d",
   "metadata": {},
   "outputs": [],
   "source": [
    "x = 'Poisson developed the \"Poisson bracket\" in 1809.'\n",
    "x[:]"
   ]
  },
  {
   "cell_type": "markdown",
   "id": "9961925f-f5a5-4e1c-9157-2729ac98c4a1",
   "metadata": {},
   "source": [
    "### Arithmetic Operators\n",
    "\n",
    "Arithmetic operators can be used on number types (integers and floats) to perform math, as you would expect.\n",
    "\n",
    "* Addition +\n",
    "* Subtraction -\n",
    "* Multiplication *\n",
    "* Division /\n",
    "* Modulus (remainder) %\n",
    "* Exponentiation **\n",
    "\n",
    "Here are some examples:"
   ]
  },
  {
   "cell_type": "code",
   "execution_count": null,
   "id": "3f06daea-e950-46d4-97ed-95368a14618e",
   "metadata": {},
   "outputs": [],
   "source": [
    "3+2"
   ]
  },
  {
   "cell_type": "code",
   "execution_count": null,
   "id": "6f3de5ef-46db-42ff-b85d-bd794fdacd35",
   "metadata": {},
   "outputs": [],
   "source": [
    "4*5"
   ]
  },
  {
   "cell_type": "code",
   "execution_count": null,
   "id": "a9b53709-f9c5-4f6f-9fae-8205fd4817a3",
   "metadata": {},
   "outputs": [],
   "source": [
    "5 % 2\n",
    "# i.e.: the remainder when we divide 5 by 2 is 1"
   ]
  },
  {
   "cell_type": "code",
   "execution_count": null,
   "id": "6f419c59-4705-4b97-9dd5-1019d7e217c1",
   "metadata": {},
   "outputs": [],
   "source": [
    "2 ** 3"
   ]
  },
  {
   "cell_type": "markdown",
   "id": "d8f794b6-773d-4f3e-8558-546aba6fc840",
   "metadata": {},
   "source": [
    "(In normal math writing, the above computation is written as $ 2^3 $.)"
   ]
  },
  {
   "cell_type": "markdown",
   "id": "3f4fdbc4-c4aa-4b16-9267-ef8ae2e8095f",
   "metadata": {},
   "source": [
    "The + operator can also be used with strings. The operation it defines is concatenation, which links two strings together to form a new string. Example:"
   ]
  },
  {
   "cell_type": "code",
   "execution_count": null,
   "id": "4eccaf1b-2dfc-4b34-beec-9d9cdd7543bc",
   "metadata": {},
   "outputs": [],
   "source": [
    "\"Hello \" + \"World\"\n",
    "# Note that we put a space between the o and the \", so that when we concatenated, we had a space between the words."
   ]
  },
  {
   "cell_type": "markdown",
   "id": "ab06f7ce-6770-434c-b4e9-830f1e11a2cc",
   "metadata": {},
   "source": [
    "## Control Flow\n",
    "\n",
    "Very often when you write code, you want to perform different actions for different decisions. So far you have only learned some of the basic building blocks of Python. The programs we have been able to create, however, are not able to dynamically make decisions for us based on the current state of our code. The way your code executes based on evaluating the current state of the code is called control flow.\n",
    "\n",
    "In this unit, we are going to learn about: conditionals and how you use Boolean operations to control the execution steps of a program;  basic if / else statements for simple true / false situations; and an introduction to for loops, using strings."
   ]
  },
  {
   "cell_type": "markdown",
   "id": "dbf66a0d-7540-420a-b5a9-a59374d17d28",
   "metadata": {},
   "source": [
    "### Conditionals\n",
    "\n",
    "Conditionals are expressions that evaluate to True or False (i.e.: Boolean expressions).\n",
    "\n",
    "We combine values, variables, and boolean operators in the form of an expression and evaluate them according to the rules of computational logic to determine a final value.  These are expressions we often see in mathematics when comparing two values. We see such symbols as < (is less than), > (is greater than), == (is equal to), <= (is less than or equal to), != (not equal to) etc. If we write a statement like ``` 5 > 3```, the computer will determine if the statement is correct, and if it is, it will give us the value ```True```.  These statements are very important, as we can build programs by making decisions based on certain conditions in a program being either true or false. In Python, the Boolean values must be written with a capitalized first letter:  ```True, False```.\n",
    "\n",
    "**Important**: there is a very big difference between ```=``` and ```==```. The symbol ```=``` is use to assign a value to a variable, like  ```x = 3```. The symbol ```==``` is used to compare the left and right side to see if they match. "
   ]
  },
  {
   "cell_type": "code",
   "execution_count": null,
   "id": "5970220b-78c0-49f9-bb57-1f3e62aa2beb",
   "metadata": {},
   "outputs": [],
   "source": [
    "10 >= 3"
   ]
  },
  {
   "cell_type": "code",
   "execution_count": null,
   "id": "d8f76dd2-6842-46cb-b9df-84e84c1fbd38",
   "metadata": {},
   "outputs": [],
   "source": [
    "'ab' == 'ab'"
   ]
  },
  {
   "cell_type": "code",
   "execution_count": null,
   "id": "845ab61c-9724-46c0-843c-d00ffb2a24f8",
   "metadata": {},
   "outputs": [],
   "source": [
    "5 != 'h'"
   ]
  },
  {
   "cell_type": "code",
   "execution_count": null,
   "id": "af594aa7-d99d-40e1-826f-a5bacc612ffb",
   "metadata": {},
   "outputs": [],
   "source": [
    "'ab' == 'Hello World'"
   ]
  },
  {
   "cell_type": "code",
   "execution_count": null,
   "id": "298d8a88-b4ea-4c6d-a54f-7b80903fd277",
   "metadata": {},
   "outputs": [],
   "source": [
    "True == False"
   ]
  },
  {
   "cell_type": "markdown",
   "id": "a7d2182c-5e4f-4330-86b0-510299d5b285",
   "metadata": {},
   "source": [
    "Logical operators are used specifically with Boolean values or expressions that evaluate to a Boolean value. They allow us to check multiple conditions at a time, and decide what to do based on all of the results.\n",
    "\n",
    "**The AND Operator**\n",
    "\n",
    "The logical and operator only results in true if both the values given to it are true. This would be like deciding if you wanted to make a sandwich but you need to know if you had bread AND peanut butter. If both conditions are true, the outcome of the process would be a peanut butter sandwich. Here are some examples:"
   ]
  },
  {
   "cell_type": "code",
   "execution_count": null,
   "id": "96a1b8fe-9a62-4f0e-8425-2f4aab37df6b",
   "metadata": {},
   "outputs": [],
   "source": [
    "(5 > 3) and (2 < 3)\n",
    "# Both are True"
   ]
  },
  {
   "cell_type": "code",
   "execution_count": null,
   "id": "eac03145-7ac8-41c0-b2b2-98fe54bdd6b5",
   "metadata": {},
   "outputs": [],
   "source": [
    "(5 > 3) and (1 < 0)\n",
    "# The first is True, but the second is False"
   ]
  },
  {
   "cell_type": "code",
   "execution_count": null,
   "id": "38ccaa44-703f-4f38-a7cb-e9888a9d6ea9",
   "metadata": {},
   "outputs": [],
   "source": [
    "('ab' == 'cb') and (1 >= -1)\n",
    "# The first is False, but the second is True"
   ]
  },
  {
   "cell_type": "code",
   "execution_count": null,
   "id": "489620f6-1188-4cc7-ac35-8eabb72f63cd",
   "metadata": {},
   "outputs": [],
   "source": [
    "True and True\n",
    "# Both are True."
   ]
  },
  {
   "cell_type": "markdown",
   "id": "e5a48f44-f374-462c-a7a0-655f8d7d0acc",
   "metadata": {},
   "source": [
    "**The OR Operator**\n",
    "\n",
    "The logical ```or``` operator results in ```True``` as long as at least one of the conditions given evaluates to ```True```."
   ]
  },
  {
   "cell_type": "code",
   "execution_count": null,
   "id": "2cff22ef-98e9-4815-a011-19627ed7c922",
   "metadata": {},
   "outputs": [],
   "source": [
    "(100 > 1) or (5 > 1)\n",
    "# Both are True"
   ]
  },
  {
   "cell_type": "code",
   "execution_count": null,
   "id": "4fc86c85-1fb0-4101-8aab-e0455b5f12ce",
   "metadata": {},
   "outputs": [],
   "source": [
    "('ab' == 'cb') or (1 >= -1)\n",
    "# The first is False, but the second is True"
   ]
  },
  {
   "cell_type": "code",
   "execution_count": null,
   "id": "f39672fe-dea1-41c1-a3c4-4ccace0fd6b8",
   "metadata": {},
   "outputs": [],
   "source": [
    "( 5 == 1) or ('ab' == 'c')\n",
    "# Neither is True"
   ]
  },
  {
   "cell_type": "code",
   "execution_count": null,
   "id": "8cd79bc1-72ca-43a4-81c1-42296887e72c",
   "metadata": {},
   "outputs": [],
   "source": [
    "( 5 == 1) or ('ab' == 'c')\n",
    "# Neither is True"
   ]
  },
  {
   "cell_type": "code",
   "execution_count": null,
   "id": "c19ff121-9d8f-48d5-a10f-d44384fb153c",
   "metadata": {},
   "outputs": [],
   "source": [
    "not True"
   ]
  },
  {
   "cell_type": "code",
   "execution_count": null,
   "id": "7013fda8-75d8-444a-b6f4-94f31e0c4b1d",
   "metadata": {},
   "outputs": [],
   "source": [
    "(1 > 4)"
   ]
  },
  {
   "cell_type": "code",
   "execution_count": null,
   "id": "8ba7468c-bec2-4a32-af25-50d973485736",
   "metadata": {},
   "outputs": [],
   "source": [
    "not (1 > 4)"
   ]
  },
  {
   "cell_type": "markdown",
   "id": "33b66687-2542-47f1-aa3d-218d17050007",
   "metadata": {},
   "source": [
    "So why do we care about these? In short, they will allow us to use very intelligent decision making in our programs by checking multiple conditions, and performing different actions based on the outcome.  For example, we could write a program that goes looking in a particular folder for CSV files that start with the letters 'CL', or start with the letters 'ES'.  This sort of check can be accomplished using and ```and``` and an ```or``` statement together.  In pseudo-code:<br>\n",
    "```(file ends in '.csv') and ((file starts with 'CL') or (file starts with 'ES'))```  <br>\n",
    "We can make even more complicated decisions using If/Else statements."
   ]
  },
  {
   "cell_type": "markdown",
   "id": "6e5348f4-cc7b-47e0-8f1d-68abccf274e7",
   "metadata": {},
   "source": [
    "### In statements\n",
    "\n",
    "Another way to produce a Boolean is to check if something is a member of another thing using the ```in``` operator.  If we wanted to check if a specific character was contained in a string, we could write:"
   ]
  },
  {
   "cell_type": "code",
   "execution_count": null,
   "id": "b5705f8c-ea20-4a30-866a-dfea3077995e",
   "metadata": {},
   "outputs": [],
   "source": [
    "'e' in 'Vector Space'"
   ]
  },
  {
   "cell_type": "markdown",
   "id": "672ed686-95be-4c2c-afe4-76876df6a0fc",
   "metadata": {},
   "source": [
    "### If / Else Statements\n",
    "\n",
    "Conditionals allow computers to observe the current state of a program and make decisions about what to do next. To do this type of computational decision making, we can use if statements. Here is the basic syntax for if/else statements in Python:"
   ]
  },
  {
   "cell_type": "code",
   "execution_count": 8,
   "id": "b5d66177-ba31-402e-8318-cda0bb93e8eb",
   "metadata": {},
   "outputs": [
    {
     "ename": "SyntaxError",
     "evalue": "invalid syntax (153206572.py, line 1)",
     "output_type": "error",
     "traceback": [
      "\u001b[0;36m  Cell \u001b[0;32mIn[8], line 1\u001b[0;36m\u001b[0m\n\u001b[0;31m    ```if (condition):\u001b[0m\n\u001b[0m    ^\u001b[0m\n\u001b[0;31mSyntaxError\u001b[0m\u001b[0;31m:\u001b[0m invalid syntax\n"
     ]
    }
   ],
   "source": [
    "```if (condition):\n",
    "    code to be executed if condition is True\n",
    "else:\n",
    "    code to be executed if condition is False```"
   ]
  },
  {
   "cell_type": "markdown",
   "id": "715fb8a7-438a-4735-97fa-9cac2b009e1d",
   "metadata": {},
   "source": [
    "For example, you might say, \"If I am hungry, I will have something to eat, otherwise, I will write code\". We could write this in Python syntax as:"
   ]
  },
  {
   "cell_type": "code",
   "execution_count": null,
   "id": "b68e7d0b-c8d4-43ed-b934-6976ad900f69",
   "metadata": {},
   "outputs": [],
   "source": [
    "```if hungry:\n",
    "    eat_food\n",
    "else:\n",
    "    write_code```"
   ]
  },
  {
   "cell_type": "markdown",
   "id": "5fccb1a2-e422-4b19-b57d-9b8212026861",
   "metadata": {},
   "source": [
    "The condition can be any combination of values that Python will evaluate to a Boolean. We use concepts like this in all kinds of operations to help our code be \"smarter\". Let's look at some examples with real code."
   ]
  },
  {
   "cell_type": "code",
   "execution_count": null,
   "id": "755bfbf4-a0e5-4f12-81a7-b03294f68328",
   "metadata": {},
   "outputs": [],
   "source": [
    "x = 'three'\n",
    "\n",
    "if type(x)==str:\n",
    "    print(\"String\")\n",
    "else:\n",
    "    print(\"Not a string.\")"
   ]
  },
  {
   "cell_type": "markdown",
   "id": "f809e36a-4b4d-41fa-b723-1f44dc35c8b1",
   "metadata": {},
   "source": [
    "Here we defined a variable x, and then checked if the variable type was a string. This if/else statement had us printing results, but there are many more interesting things we can do, like defining new variables, running previously defined functions, and many more.\n",
    "An important thing to note is the indentation. Python does not use braces {} like other languages, but instead uses whitespace to align functions, loops, and statements to force good readability practices on code writing; Python uses the whitespace of indentation to tell the program which sections of code belong to the if / else conditions. If we failed to indent properly, we would either get an error message, or the code would behave different than expected. For example:"
   ]
  },
  {
   "cell_type": "code",
   "execution_count": null,
   "id": "613f8c5a-38e2-40cc-8c50-0791d4224c44",
   "metadata": {},
   "outputs": [],
   "source": [
    "if 5 > 10:\n",
    "    print(\"It's true!\")\n",
    "else:\n",
    "print(\"It's false!\")"
   ]
  },
  {
   "cell_type": "markdown",
   "id": "b320ffaf-f124-48a6-ad4b-766d7fae6312",
   "metadata": {},
   "source": [
    "We get an error message when we try to run this because the \"else:\" expected the next line to be indented so it knows what to do. Correcting this error, we get:"
   ]
  },
  {
   "cell_type": "code",
   "execution_count": null,
   "id": "edd02464-9516-42fe-87dc-c904befc6b64",
   "metadata": {},
   "outputs": [],
   "source": [
    "if 5 > 10:\n",
    "    print(\"It's true!\")\n",
    "else:\n",
    "    print(\"It's false!\")"
   ]
  },
  {
   "cell_type": "markdown",
   "id": "ad14816e-2d2f-46cc-92a9-58bb48c204c6",
   "metadata": {},
   "source": [
    "Let's combine the control flow elements we've learned so far. Our if statement could evaluate more than one statement using a Boolean operator:"
   ]
  },
  {
   "cell_type": "code",
   "execution_count": null,
   "id": "11719fe5-fa70-446e-bb0b-92445048aa50",
   "metadata": {},
   "outputs": [],
   "source": [
    "x = 6\n",
    "\n",
    "if (x * 2) < 10 or (x % 2) == 0:\n",
    "    z = 2*x\n",
    "else:\n",
    "    z = 0\n",
    "\n",
    "z"
   ]
  },
  {
   "cell_type": "markdown",
   "id": "6704b8a4-5758-477e-b8ac-1083f95083b2",
   "metadata": {},
   "source": [
    "Here we fed our if statement a number, ```x```, and evaluated two statements, but only required one of them to be ```True``` to define the variable ```z``` as twice the value of ```x```.  If neither was `True`, then `z` is set to 0."
   ]
  },
  {
   "cell_type": "markdown",
   "id": "b5b1c5fb-a653-4df7-b61c-30b2d438eed6",
   "metadata": {},
   "source": [
    "All of the examples we've seen so far only have two options:  either the set of statements given is true, or not.  If we had more complicated conditions to check, we could build a sequence of nested statements to evaluate.  A more straightforward way to accomplish the check, though, is to use the else-if (\"elif\") statement.  An if/elif/else statement works like this:  \n",
    "\n",
    "* First, evaluate the if-statement to see if it's true.  \n",
    "* If it is, execute the code that follows it, and stop.  \n",
    "* If it's false, move on to the first elif statement, and evaluate that statment.  \n",
    "* If it's true, execute the code that follows it, and then stop.\n",
    "* If it's false, move on to any other elif statements, and continue the process.\n",
    "* If none of the if/elif statements is true, then execute the code after the else statement (if there is one).\n"
   ]
  },
  {
   "cell_type": "code",
   "execution_count": null,
   "id": "4dd853f9-3d7b-427a-a055-dde0c2f9cbfe",
   "metadata": {},
   "outputs": [],
   "source": [
    "x = 3\n",
    "if x < 0:\n",
    "    print('Negative')\n",
    "elif x > 0 and x < 10:\n",
    "    print('Positive Single Digit')\n",
    "else:\n",
    "    print('Positive 2+ digits')\n",
    "    "
   ]
  },
  {
   "cell_type": "markdown",
   "id": "4a3a2338-6091-4d92-b597-403af195c320",
   "metadata": {},
   "source": [
    "Let's write code that will take a variable, and do the following\n",
    "1. Check if the type is a string, and check if the first letter is a capital letter.  If so, it prints \"Capitalized\".\n",
    "2. Else, if the type is a string but the first letter is not a capital letter, it prints 'Not Capitalized'.\n",
    "3. Else, it prints 'Not a string'."
   ]
  },
  {
   "cell_type": "code",
   "execution_count": null,
   "id": "7929393d-c2ab-4096-afda-83820fe96ad6",
   "metadata": {},
   "outputs": [],
   "source": [
    "x = 'Lisa'\n",
    "if "
   ]
  },
  {
   "cell_type": "markdown",
   "id": "09cf6f1e-ac2e-4927-906c-93160b0e10ba",
   "metadata": {},
   "source": [
    "### For Loops\n",
    "For loops let us iterate a specific number of times, and execute code each time.    The general syntax is:"
   ]
  },
  {
   "cell_type": "markdown",
   "id": "c624ecb8-b881-4e8b-83d6-90212d361234",
   "metadata": {},
   "source": [
    "```for variable in iterable:\n",
    "    code to be executed at each loop```"
   ]
  },
  {
   "cell_type": "markdown",
   "id": "36708bcc-2d04-4f95-b99c-c674718a5648",
   "metadata": {},
   "source": [
    "(Note that like an if statement, the code to be executed has to be indented.  Any code that follows which is not indented will not be included in the loop commands.)<br>\n",
    "There are a number of ways we can iterate, but let's start with an easy example: iterating over strings. Strings are a sequence of characters in a particular order, so we can iterate over the string's characters and perform an action at each step.  An easy example would be to simply print the value of the character."
   ]
  },
  {
   "cell_type": "code",
   "execution_count": null,
   "id": "2b4adb40-cba7-4725-8e33-56238d9204a7",
   "metadata": {},
   "outputs": [],
   "source": [
    "for x in 'Hello World!':\n",
    "    print(x)"
   ]
  },
  {
   "cell_type": "markdown",
   "id": "7357c56f-cb5b-4e59-bb2f-bc9135cab53d",
   "metadata": {},
   "source": [
    "If we didn't know about the ```len``` function for strings (which right now we don't, but will learn about it), we could write a for loop to count the number of characters in a string.  We'd accomplish this by creating a variable set to 0, and then as we iterate over the string, we add 1 to the variable at each character."
   ]
  },
  {
   "cell_type": "code",
   "execution_count": null,
   "id": "a0e75ac0-cca2-44b8-a708-8a07fbfd4d32",
   "metadata": {},
   "outputs": [],
   "source": [
    "length = 0\n",
    "for x in 'Hello World!':\n",
    "    length = length + 1  # Changing variable values on the fly by re-defining!  Very useful.\n",
    "    \n",
    "length"
   ]
  },
  {
   "cell_type": "markdown",
   "id": "d7994422-7119-451e-96a2-be71f0faf8a1",
   "metadata": {},
   "source": [
    "An important thing to note for both of these examples is that we wrote ```for x in <some string>```.  The variable ```x``` here is a \"dummy variable\", because it doesn't do anything except for keep track of which stage of the iteration you're at.  As we iterate over the string, the value of ```x``` will whatever character the loop is currently at.  You can use whatever dummy variable name you like, but  make sure to not use a variable name that is already defined previously in your code, or you will confuse the program and get error messages.\n",
    "\n",
    "Another way to handle the iteration is through a Python ```range``` object.  Saying ```for x in range(1,3):``` would count from the first number given, up to but not including the second number given.  So ```range(1,3)``` is equivalent to the computer counting 1, 2, and then stopping.  As a reminder, the variable ```x``` here is a \"dummy variable\", because the only thing it does is keep track of the step of the iteration you're on (and its value is the value of the step). Just make sure to not use a variable name you've already used.<br>\n",
    "Here's a basic loop where at each stage, we just want to print what number the loop is at."
   ]
  },
  {
   "cell_type": "code",
   "execution_count": null,
   "id": "979267b0-caeb-4917-a49c-70586547b174",
   "metadata": {},
   "outputs": [],
   "source": [
    "for x in range(3,10):\n",
    "    print(x)"
   ]
  },
  {
   "cell_type": "markdown",
   "id": "a3d5acf7-5622-44c5-a017-874f63f5b17a",
   "metadata": {
    "jupyter": {
     "source_hidden": true
    }
   },
   "source": [
    "** Values in Ranges **\n",
    "If you only care about the number of times you're iterating, but not the actual values at each stage of the iteration, you can just use ```range(n)``` where n is the number of times you want to iterate, e.g.: ```range(5)``` will give you five steps, and is equivalent to ```range(0,5)```.  "
   ]
  },
  {
   "cell_type": "code",
   "execution_count": null,
   "id": "6f6ed542-9378-4b2a-b075-998dca6a425a",
   "metadata": {},
   "outputs": [],
   "source": [
    "for x in range(5):\n",
    "    print(x)"
   ]
  },
  {
   "cell_type": "markdown",
   "id": "8a157f71-6d4f-4066-81c7-959591c7519b",
   "metadata": {},
   "source": [
    "We have learned a number of ways to use loops to re-define variables on the fly. So now let's write a for loop which takes an initial variable, and double the value of the variable and then adds one each time. We'll do it over 3 iterations."
   ]
  },
  {
   "cell_type": "code",
   "execution_count": null,
   "id": "4f8b60b3-e0c5-45c3-8deb-ba6f67831063",
   "metadata": {},
   "outputs": [],
   "source": [
    "y = 2\n",
    "for x in range(3):\n",
    "    y = 2 * y+ 1"
   ]
  },
  {
   "cell_type": "code",
   "execution_count": null,
   "id": "ff746eb5-fa04-47ee-a5df-601b07905d1e",
   "metadata": {},
   "outputs": [],
   "source": [
    "y"
   ]
  },
  {
   "cell_type": "markdown",
   "id": "5a40c805-06ac-4cce-a23e-2fd8b0b8a3d8",
   "metadata": {},
   "source": [
    "Let's write a for loop which adds up all of the numbers from 100 to 225.  We start with an initial variable whose value we'll set to 0, and then adjust it each time"
   ]
  },
  {
   "cell_type": "code",
   "execution_count": null,
   "id": "f2412b31-1274-4e02-9c8d-de970f2d16b5",
   "metadata": {},
   "outputs": [],
   "source": [
    "a = 0\n",
    "for p in range(,):"
   ]
  },
  {
   "cell_type": "markdown",
   "id": "fceecc28-b658-485f-b36b-3387989c57bf",
   "metadata": {},
   "source": [
    "We saw that we can iterate over a string using the syntax for x in string_name, but we can also iterate over a string using integer indices. The range we have to provide is the length of the string, which we can retrieve using the len() function. Adjusting an example from above:"
   ]
  },
  {
   "cell_type": "code",
   "execution_count": null,
   "id": "82e7015e-1faa-44cc-92b7-371a456d622b",
   "metadata": {},
   "outputs": [],
   "source": [
    "x = \"Hello World!\"\n",
    "for i in range(len(x)):\n",
    "    print(x[i]) # here we're referencing the index by the value of the iteration from 0 to len(x"
   ]
  },
  {
   "cell_type": "markdown",
   "id": "deb42bcb-9dfc-4972-b9c2-0c09af83e988",
   "metadata": {},
   "source": [
    "What would happen if we tried looping, and gave it a number reference that's outside the range of the index?"
   ]
  },
  {
   "cell_type": "code",
   "execution_count": null,
   "id": "fc582035-cdbd-412b-aeab-addc2e3d8aea",
   "metadata": {},
   "outputs": [],
   "source": [
    "x = 'four'\n",
    "for y in range(5):\n",
    "    print(x[y])"
   ]
  },
  {
   "cell_type": "markdown",
   "id": "5ac08624-543e-4f85-b5d7-b756b9b7275e",
   "metadata": {},
   "source": [
    "So it printed each character, but then the index went out of range and the code halted with an error message. This means we need to be careful about indices (not only for strings, but for other objects like lists, and dataframe indices).\n",
    "\n",
    "Let's revisit an example and write a loop which will count how many times a particular letter appears in a string, but this time using integer indices. Let's count the number of times the letter v appears."
   ]
  },
  {
   "cell_type": "code",
   "execution_count": null,
   "id": "749a53c6-dcc4-471c-bd7f-38180e7f00a6",
   "metadata": {},
   "outputs": [],
   "source": [
    "y = \"We start with an initial variable whose value we'll set to 0, and then adjust it each time:\"\n",
    "for x in range():"
   ]
  },
  {
   "cell_type": "markdown",
   "id": "a8f31fb2-cfa7-4619-b676-0cde9b1f58f1",
   "metadata": {},
   "source": [
    "### While Loops\n",
    "While loops involve checking a condition each step of the iteration, and running the code that follows if the condition is True.  If the condition changes to false, then the loop will stop. Here is a simple example: we define a variable to be 0, and then we say while the variable is less than 10, print what the variable's value is, and then add one to it."
   ]
  },
  {
   "cell_type": "code",
   "execution_count": 6,
   "id": "8387248d-2bd5-45dd-8e67-e079ac012fe3",
   "metadata": {},
   "outputs": [
    {
     "name": "stdout",
     "output_type": "stream",
     "text": [
      "The number is 0\n",
      "The number is 1\n",
      "The number is 2\n",
      "The number is 3\n"
     ]
    }
   ],
   "source": [
    "i=0\n",
    "while (i < 4):\n",
    "    print(\"The number is \" + str(i))\n",
    "    i=i+1"
   ]
  },
  {
   "cell_type": "markdown",
   "id": "22f4e11a-8bc5-4e58-a582-f75cceb9710e",
   "metadata": {},
   "source": [
    "The code keeps adding one to i until it gets to 4, at which point the condition ```i<4``` is false, so the code halts.\n",
    "\n",
    "**Note**:  There is one major issue with while loops:  if the condition never changes to false, then the loop will never stop.  This is what we call an infinite loop, and can cause serious issues in your code.  Here is an example of a while loop which loops infinitely:"
   ]
  },
  {
   "cell_type": "markdown",
   "id": "d37c7ac1-8aa8-4a04-8c67-f8ebf7bd5150",
   "metadata": {},
   "source": [
    "```i = 2\n",
    "while (i>0):\n",
    "    print(i)\n",
    "    i = i+1```"
   ]
  },
  {
   "cell_type": "markdown",
   "id": "a703cd9b-2236-40e6-a34c-de1eb765833e",
   "metadata": {},
   "source": [
    "At every stage, it checks if the given variable is bigger than 0, and adds 1 to it.  This means the value will always increase, so the condition will *always* be true; the loop will never halt, because the condition never changes to being false.  So when creating while loops, you must be careful to ensure that you do not cause an infinite loop.<br>\n",
    "Let's create a while loop that finds the index of the first instance of a particular character in a string:"
   ]
  },
  {
   "cell_type": "code",
   "execution_count": 10,
   "id": "6ee51e0a-0497-4341-9469-2e323ada6af7",
   "metadata": {},
   "outputs": [
    {
     "name": "stdout",
     "output_type": "stream",
     "text": [
      "The index of the first instance of 'u' is: 51\n"
     ]
    }
   ],
   "source": [
    "x = 'Poisson geometry plays an important role in noncommutative geometry.'\n",
    "y = 'u'\n",
    "i = 0\n",
    "\n",
    "while i < len(x) and x[i] != y:\n",
    "    i += 1\n",
    "\n",
    "if i < len(x):\n",
    "    print(f\"The index of the first instance of '{y}' is: {i}\")\n",
    "else:\n",
    "    print(f\"The character '{y}' is not found in the string.\")\n"
   ]
  },
  {
   "cell_type": "markdown",
   "id": "761e5e24-7ac2-4212-978f-91abc284ee15",
   "metadata": {},
   "source": [
    "## Functions\n",
    "\n",
    "Functions are key to writing readable, modular, and efficient code. In theory, you can write your entire program in one function. If you did, however, it would get rather long and likely use a lot of repetitive code. Determining the best way to compartmentalize code into functions is almost an art in and of itself, and is usually improved with time and practice.\n",
    "\n",
    "To write a function, you need to declare it with the `def` keyword and provide a name for your function that you can use to invoke it later on. Following the keyword and function name, you would write two parentheses where you can provide your list of *arguments* your function will use. Arguments are the things you give to your function that can be used to produce some result. The basic format of a function is:\n",
    "\n",
    "```def function_name(argument_1,argument_2,argument_3):\n",
    "    code to be executed ```\n",
    "\n",
    "White space is as important for functions as it is for loops and if statements.  After you initially declare the function name and its arguments, all of the related code must be indented.  Let's look closer at a rudimentary example:"
   ]
  },
  {
   "cell_type": "code",
   "execution_count": null,
   "id": "471ece87-7084-4a8f-9d54-9c2c678a24b3",
   "metadata": {},
   "outputs": [],
   "source": [
    "def add(a,b):\n",
    "    return a+b"
   ]
  },
  {
   "cell_type": "markdown",
   "id": "d4a55575-ee3d-4f5c-b2e4-7658350bf33c",
   "metadata": {},
   "source": [
    "We signaled Python that we were about to define a function with the `def` keyword, gave it the name \"add\", told it that the arguments the function were going to be a and b, and then used a colon to signal that we're ready to explain what the function does.  The function only has one line of code, which is indented; this code says that given arguments a and b, the function needs to return the value a+b.  Any code after the function is defined needs to return to the original level of indentation:"
   ]
  },
  {
   "cell_type": "code",
   "execution_count": null,
   "id": "60577ec9-bce5-48c6-a381-84567bcc38aa",
   "metadata": {},
   "outputs": [],
   "source": [
    "def add(a,b):\n",
    "    return a+b\n",
    "\n",
    "x = 5\n",
    "y = 3+5\n",
    "z = add(x,y)\n",
    "z"
   ]
  },
  {
   "cell_type": "markdown",
   "id": "5b0c5ea0-63db-4275-b486-dcfd2c2ba802",
   "metadata": {},
   "source": [
    "The word ```return``` here means that the function will output the value you're telling it to return, which can then be assigned to another variable, or used directly in other code.<br>\n",
    "Here is an example of a functi\n",
    "on that calculates the hypotenuse of any right-angled triangle, if it is given the lengths of the other two sides, i.e.: there are two arguments, the lengths of the other sides, and the output of the function is the length of the hypotenuse."
   ]
  },
  {
   "cell_type": "code",
   "execution_count": null,
   "id": "db651c91-9bbb-4f6f-9642-8c6c66a82d22",
   "metadata": {},
   "outputs": [],
   "source": [
    "def pythagorize(a,b):\n",
    "    c = (a*a + b*b)**(0.5)\n",
    "    return c"
   ]
  },
  {
   "cell_type": "markdown",
   "id": "36c0d9f9-0f4a-4533-bd3b-1161d3c3459f",
   "metadata": {},
   "source": [
    "Here we define a new variable inside of the function called c, to which we assign the value $\\sqrt{a^2 + b^2}$.  (Recall that $ \\sqrt{x} = x^\\frac{1}{2} $ for $x > 0$).  The function then returns the value stored in the variable c.  This isn't a necessary step -- we could just have the function return the value in a single line -- but we'll see later functions where it's useful to define variables inside the function's logic.<br>\n",
    "We can then call the function with specific values:"
   ]
  },
  {
   "cell_type": "code",
   "execution_count": null,
   "id": "37f68c80-5985-4c2c-bb89-a8b29c1afd64",
   "metadata": {},
   "outputs": [],
   "source": [
    "pythagorize(3,4)"
   ]
  },
  {
   "cell_type": "markdown",
   "id": "40dae2d4-e24c-48dd-a8c6-df2df29896ab",
   "metadata": {},
   "source": [
    "One of the most common functions we've seen so far is the ```print``` function, which makes the computer output a value so we can see it.  The function is specially handy when creating a long script, so that we can see things happen as it runs.  Here's a simple example using the pythagorize function:"
   ]
  },
  {
   "cell_type": "code",
   "execution_count": null,
   "id": "44076d1d-0eb9-495c-b9c1-aa3faf876fe5",
   "metadata": {},
   "outputs": [],
   "source": [
    "def pythagorize_with_commentary(a,b):\n",
    "    print('First we calculate a*a:')\n",
    "    x = a*a\n",
    "    print('a*a=',x)\n",
    "    print('then we calculate b*b:')\n",
    "    y = b*b\n",
    "    print('b*b=',y)\n",
    "    print('and lastly we calculate (a*a+b*b)**(0.5):')\n",
    "    c = (a*a + b*b)**(0.5)\n",
    "    print('(a*a+b*b)**(0.5)=',c)"
   ]
  },
  {
   "cell_type": "code",
   "execution_count": null,
   "id": "3387832e-8893-490d-8f5f-f9b7903374e5",
   "metadata": {},
   "outputs": [],
   "source": [
    "pythagorize_with_commentary(3,4)"
   ]
  },
  {
   "cell_type": "markdown",
   "id": "00ef5ac3-ae78-4416-b077-ea25048f806d",
   "metadata": {},
   "source": [
    "## Functions with condition checking\n",
    "\n",
    "In a previous example, we used an if-statement to check if a variable satisfied a condition:"
   ]
  },
  {
   "cell_type": "code",
   "execution_count": null,
   "id": "63f631ef-ea3c-4e56-9094-54ab724e0a44",
   "metadata": {},
   "outputs": [],
   "source": [
    "x = 'three'\n",
    "\n",
    "if type(x)==str:\n",
    "    print(\"String\")\n",
    "else:\n",
    "    print(\"Not a string.\")"
   ]
  },
  {
   "cell_type": "markdown",
   "id": "9de5b395-652d-446c-ab2d-93e811cb8d43",
   "metadata": {},
   "source": [
    "i.e.: the variable x was defined by us, and then immediately checked with the if/else statement.  If we wanted to check another variable, we would have to re-write the if statement.  In general, a more prudent way to use an if/else statement to be able to check a number of different variables efficiently is to build the statement *into a function*."
   ]
  },
  {
   "cell_type": "code",
   "execution_count": null,
   "id": "4aa40c17-67fc-41b6-8b89-8931b9ad2ae5",
   "metadata": {},
   "outputs": [],
   "source": [
    "def divisible_by_three(x):\n",
    "    # First we'll check if the number is divisible by 3; in other words, if the remainder is 0 after dividing x by three.\n",
    "    if x % 3 == 0:\n",
    "        print(str(x)+\" is divisible by 3.\")\n",
    "    else:\n",
    "        print(str(x)+\" is not divisible by 3.\")"
   ]
  },
  {
   "cell_type": "markdown",
   "id": "157bc4a5-fa3b-4cc4-be4f-d84b8fc9012f",
   "metadata": {},
   "source": [
    "We can call the function on a few numbers:"
   ]
  },
  {
   "cell_type": "code",
   "execution_count": null,
   "id": "d8a67b12-f1e5-41f0-8faa-12fd1989f1a7",
   "metadata": {},
   "outputs": [],
   "source": [
    "divisible_by_three(6)\n",
    "divisible_by_three(10)"
   ]
  },
  {
   "cell_type": "markdown",
   "id": "31c3518b-9eda-473e-9a0a-3940fa05d1e9",
   "metadata": {},
   "source": [
    "But what happens if we try to put something that isn't a number into the function?"
   ]
  },
  {
   "cell_type": "code",
   "execution_count": null,
   "id": "9a92ae17-77ab-45c2-8212-1877cd3fed70",
   "metadata": {},
   "outputs": [],
   "source": [
    "divisible_by_three(\"this isn't a number\")"
   ]
  },
  {
   "cell_type": "markdown",
   "id": "72fc7068-2baf-48f3-af44-10a7776b2d6e",
   "metadata": {},
   "source": [
    "We can get around this error by layering *another if/else* statement around the one we currently have.  The first thing we want to check is if the argument is a number.  If it is, we'll continue with our original test.  If it isn't, we'll have the function say that the argument isn't a number.  This multi-layered statement building is called \"nesting\" statements.  (Please pay careful attention to the levels of indentation.)"
   ]
  },
  {
   "cell_type": "code",
   "execution_count": null,
   "id": "0a18bf3a-0384-4a14-8c74-c7260d323fa8",
   "metadata": {},
   "outputs": [],
   "source": [
    "def divisible_by_three(x):\n",
    "    # First we'll check if the argument is a number (int or float).  Then we'll check if the number is divisible by 3.\n",
    "    if type(x)==float or type(x)==int:\n",
    "        if x % 3 == 0:\n",
    "            print(str(x)+\" is divisible by 3.\")\n",
    "        else:\n",
    "            print(str(x)+\" is not divisible by 3.\")\n",
    "    else:\n",
    "        print(\"Error: Argument is not a number.\")"
   ]
  },
  {
   "cell_type": "code",
   "execution_count": null,
   "id": "f8eec0cc-3a49-4bd7-82d0-588d2ec274c9",
   "metadata": {},
   "outputs": [],
   "source": [
    "divisible_by_three(\"this isn't a number\")"
   ]
  },
  {
   "cell_type": "code",
   "execution_count": null,
   "id": "22bdd1f0-fe14-4234-9ff0-a9bf5cd84232",
   "metadata": {},
   "outputs": [],
   "source": [
    "divisible_by_three(27.0)"
   ]
  },
  {
   "cell_type": "markdown",
   "id": "2bca1b4a-fbda-4f82-b592-ca81b6c9ecc4",
   "metadata": {},
   "source": [
    "Let's contrive a function that will do different things depending on whether the argument is a string or an integer.  If the argument is a string, we'll append \".com\" to the end of it and return the result.  If the argument is an integer, we'll multiply it by 3, and return the result.  And if the argument is any other variable type, we'll print the phrase \"Hello World!\"."
   ]
  },
  {
   "cell_type": "code",
   "execution_count": null,
   "id": "82176e1a-117c-4e3e-90b3-02865206f916",
   "metadata": {},
   "outputs": [],
   "source": [
    "def contrived_function(x):\n",
    "    if type(x)==str:\n",
    "        y = x+\".com\"\n",
    "        return y\n",
    "    elif type(x)==int:\n",
    "        y = 3*x\n",
    "        return y\n",
    "    else:\n",
    "        print(\"Hello World!\")"
   ]
  },
  {
   "cell_type": "code",
   "execution_count": null,
   "id": "4b47e9c4-ddfe-4d55-9197-c58666a2f0aa",
   "metadata": {},
   "outputs": [],
   "source": [
    "contrived_function(5)"
   ]
  },
  {
   "cell_type": "code",
   "execution_count": null,
   "id": "35aab1ab-22a6-4bb5-8bb8-58cf5d652135",
   "metadata": {},
   "outputs": [],
   "source": [
    "contrived_function('Monday')"
   ]
  },
  {
   "cell_type": "code",
   "execution_count": null,
   "id": "8f5bfdb6-a39e-43da-89cc-0b178a2646ea",
   "metadata": {},
   "outputs": [],
   "source": [
    "contrived_function(True)"
   ]
  },
  {
   "cell_type": "markdown",
   "id": "e3e9e011-0fba-4a41-ae7e-437720a33040",
   "metadata": {},
   "source": [
    "Having the ability to allow our code to make decisions based on input from a user or the current state of the code gives us significantly more flexibility. Our code becomes \"smarter\" and is able to react to all kinds of different cases (as long as we are able to predict them, of course)."
   ]
  },
  {
   "cell_type": "markdown",
   "id": "0871f103-a052-40b5-8333-e6ad4a582711",
   "metadata": {},
   "source": [
    "As an exercise, let's write a function which takes in 3 numbers as arguments, and returns the value of the product of the square of each number."
   ]
  },
  {
   "cell_type": "code",
   "execution_count": null,
   "id": "ceed82ec-8967-4acd-b814-a5cac9e1e713",
   "metadata": {},
   "outputs": [],
   "source": [
    "def"
   ]
  },
  {
   "cell_type": "markdown",
   "id": "c4f92143-ad79-41b9-bb07-f14ca810d3de",
   "metadata": {},
   "source": [
    "Now, let's write a function which takes in two strings as arguments, and returns a new string which concatenates the first three characters of the first string to the last three characters of the second string.  What happens if we feed it strings that are too short?  How can we prepare for this?"
   ]
  },
  {
   "cell_type": "code",
   "execution_count": null,
   "id": "71c70e15-cd27-4429-8c8f-a223869e2ddd",
   "metadata": {},
   "outputs": [],
   "source": [
    "def"
   ]
  },
  {
   "cell_type": "markdown",
   "id": "fa15f120-910a-467e-99fd-bcd852bbdc86",
   "metadata": {},
   "source": [
    "Creating functions allows us to perform a variety of tasks under different circumstances, while keeping our actual code writing short.<br>\n",
    "Let's create a function which returns the absolute value of a number, or returns an error message if the input is not the right type.  What types do we allow?  What other things could we try to consider? (Maybe \"what if we feed it a string which only contains numeric characters\"?)"
   ]
  },
  {
   "cell_type": "code",
   "execution_count": null,
   "id": "c22815d8-d0f3-46c9-9413-bcefa1787973",
   "metadata": {},
   "outputs": [],
   "source": [
    "def"
   ]
  },
  {
   "cell_type": "markdown",
   "id": "4fa81a05-2796-4f4a-930f-30dc7d1a2741",
   "metadata": {},
   "source": [
    "We saw that you can add more conditions by using else-if (elif).  Here's an example function which takes in a string, expecting it to be a day of the week, and will output what your weekly plans are that night.  We use elif to cover the different possibilities:"
   ]
  },
  {
   "cell_type": "code",
   "execution_count": null,
   "id": "e93d452c-84c5-430e-aa7b-348b9b4e0103",
   "metadata": {},
   "outputs": [],
   "source": [
    "def weekly_plans(day):\n",
    "    if type(day)!=str:\n",
    "        print(\"Error: argument is not a string.\")\n",
    "    else:\n",
    "        if day=='Monday':\n",
    "            print('Swimming class.')\n",
    "        elif day=='Tuesday' or day=='Thursday' or day=='Saturday':\n",
    "            print('No plans')\n",
    "        elif day=='Wednesday':\n",
    "            print('Band practice')\n",
    "        elif day=='Friday':\n",
    "            print('Pub night')\n",
    "        elif day=='Sunday':\n",
    "            print('Family dinner')\n",
    "        else:\n",
    "            print('Error: argument string is not a day of the week.')"
   ]
  },
  {
   "cell_type": "code",
   "execution_count": null,
   "id": "4d01cca6-62f9-4378-98d4-142657bb8275",
   "metadata": {},
   "outputs": [],
   "source": [
    "weekly_plans('Thursday')\n",
    "weekly_plans('Hello World!')"
   ]
  },
  {
   "cell_type": "markdown",
   "id": "ea5ad85b-d8a8-48b9-b4e2-fed82d7551b0",
   "metadata": {},
   "source": [
    "Question:  What happens if you put 'sunday' into the function?"
   ]
  },
  {
   "cell_type": "code",
   "execution_count": null,
   "id": "b531bde5-72fb-4ed7-8f13-f32dd24d5f92",
   "metadata": {},
   "outputs": [],
   "source": [
    "weekly_plans('')"
   ]
  },
  {
   "cell_type": "markdown",
   "id": "254698fa-6c00-496c-8c07-4895fb6e1229",
   "metadata": {},
   "source": [
    "What ways can we deal with this?"
   ]
  },
  {
   "cell_type": "markdown",
   "id": "c66ea5d1-c890-4ff1-be79-0d5f37926305",
   "metadata": {},
   "source": [
    "**Note**:  If statements don't require an else statement.  Sometimes we want to check if something is true, but do nothing if it's not.  It's fine to leave out an else:"
   ]
  },
  {
   "cell_type": "code",
   "execution_count": null,
   "id": "3bb9e7b5-0b33-4e22-8be5-604d37d2a713",
   "metadata": {},
   "outputs": [],
   "source": [
    "x = 5\n",
    "if x < 2:\n",
    "    print('Shovels.')"
   ]
  },
  {
   "cell_type": "markdown",
   "id": "1c3ae774-cf39-4e8b-b7c9-135cc58600a5",
   "metadata": {},
   "source": [
    "When the code ran, it checked if 5 < 2, which is False.  Since there's no else: statement, the code did nothing because it wasn't instructed to do anything.  If any code followed it, it would simply move on to that code."
   ]
  },
  {
   "cell_type": "markdown",
   "id": "2ca0d219-30ea-4235-9b2b-e8f6e47c32bc",
   "metadata": {},
   "source": [
    "### Combining Things\n",
    "Let's combine our knowledge of variables, functions, and control flow to create some more interesting code.  We iterate on a previous exercise to start, and create a function which takes any string as a first argument, any single character string as a second argument, and counts the number of times that character appears using a for loop."
   ]
  },
  {
   "cell_type": "code",
   "execution_count": null,
   "id": "a55df2af-a8c2-41e0-8ce4-b40b1476b512",
   "metadata": {},
   "outputs": [],
   "source": [
    "def string_char_count(,):"
   ]
  },
  {
   "cell_type": "markdown",
   "id": "81d86943-e977-42c4-a376-0cebf612e497",
   "metadata": {},
   "source": [
    "We could also do this using a while loop inside the function.  How would we change the code? What things need to be added?"
   ]
  },
  {
   "cell_type": "code",
   "execution_count": null,
   "id": "ea779be5-1711-42a0-9989-dd61ec2b1eff",
   "metadata": {},
   "outputs": [],
   "source": [
    "def string_char_count_while(,):"
   ]
  },
  {
   "cell_type": "markdown",
   "id": "d13eccc8-5631-4295-aa5b-918970718c20",
   "metadata": {},
   "source": [
    "One of the earliest functions we learn about in math is the absolute value function.  We recall that for a given real number $x$, the absolute value function is defined as\n",
    "$$ \\vert \\,x\\, \\vert = \\begin{cases}x, & \\text{if }x\\geqslant 0 \\\\ -x, & \\text{if }x<0 \\end{cases} $$\n",
    "Let's write a function which takes in a number and outputs the absolute value (and accounts for argument type)."
   ]
  },
  {
   "cell_type": "code",
   "execution_count": null,
   "id": "56dc7ee5-885a-47ff-9484-fda85be128df",
   "metadata": {},
   "outputs": [],
   "source": [
    "def absval(x):\n",
    "    if isinstance(x, (int, float)):\n",
    "        if x >= 0:\n",
    "            return x\n",
    "        else:\n",
    "            return -x\n",
    "    else:\n",
    "        return \"Error: Input must be a number\"\n",
    "\n",
    "# Test the function\n",
    "print(absval(5))    # Output: 5\n",
    "print(absval(-3))   # Output: 3\n",
    "print(absval(0))    # Output: 0\n",
    "print(absval(3.14)) # Output: 3.14\n",
    "print(absval('a'))  # Output: Error: Input must be a number"
   ]
  },
  {
   "cell_type": "markdown",
   "id": "e923046e-7649-49db-9175-ed3f8cce792e",
   "metadata": {},
   "source": [
    "### Note about whitespace:\n",
    "The only white space Python cares about in code is the indentation level, and separating words.  We only use one space to separate things, but Python will understand more than one space; the following are equivalent:"
   ]
  },
  {
   "cell_type": "code",
   "execution_count": null,
   "id": "5672c414-ab5c-4ae7-ac9d-d35b00968307",
   "metadata": {},
   "outputs": [],
   "source": [
    "for x in range(1,3):\n",
    "    print(x+1)"
   ]
  },
  {
   "cell_type": "code",
   "execution_count": null,
   "id": "1da60f3a-195b-42bd-9b43-81242c2a1ad4",
   "metadata": {},
   "outputs": [],
   "source": [
    "for x       in        range(1,3):\n",
    "    print(x                 + 1)"
   ]
  },
  {
   "cell_type": "markdown",
   "id": "e7624e8b-fc3e-456b-9081-202b6d2ec8ba",
   "metadata": {},
   "source": [
    "**Assignment**"
   ]
  },
  {
   "cell_type": "markdown",
   "id": "b3e73ce9-183e-40ce-bb2d-1eb4763f5256",
   "metadata": {},
   "source": [
    "1. Define two variables x and y, and design code which does the following:\n",
    "If both x and y are strings, a new variable z is defined, being x concatenated with y. Have the code print z. If one of x or y is a string but the other is not, it converts the one that isn't into a string, prints \"String Converted\", and then defines z as x concatenated with y and prints it. If neither x nor y is a string, it prints \"Neither of these is a string.\" (Try running it with different kinds of values for x and y."
   ]
  },
  {
   "cell_type": "code",
   "execution_count": null,
   "id": "bcf857cd-e99d-44b3-b7a9-7f2f8b970466",
   "metadata": {},
   "outputs": [],
   "source": [
    "# your code here\n",
    "\n",
    "\n"
   ]
  },
  {
   "cell_type": "markdown",
   "id": "387ec733-7355-48a8-96fc-192250186d67",
   "metadata": {},
   "source": [
    "2. Write a function which takes any string as argument, and returns a new string which is the original string in the reverse order. If something that isn't a string is given, have it print an error. Note: while using return x[::-1] would be easy, that's not the point of this exercise."
   ]
  },
  {
   "cell_type": "code",
   "execution_count": null,
   "id": "3e0bc83a-f4bb-477a-9764-79b388908ca9",
   "metadata": {},
   "outputs": [],
   "source": [
    "# your code here\n",
    "\n",
    "\n"
   ]
  },
  {
   "cell_type": "markdown",
   "id": "55cb9346-60d4-4228-8d05-30d5eb7b6cf7",
   "metadata": {},
   "source": [
    "3. Write a function which takes in positive integer, and returns the sum of all of the individual digits. (e.g.: if the function is called digit_sum(), then digit_sum(132) would return \n",
    ", with the computation "
   ]
  },
  {
   "cell_type": "code",
   "execution_count": null,
   "id": "3399119a-7b01-478d-9e1c-94ff417b80a3",
   "metadata": {},
   "outputs": [],
   "source": [
    "# your code here\n",
    "\n",
    "\n",
    "\n"
   ]
  },
  {
   "cell_type": "markdown",
   "id": "381165c1-c02a-41f0-bf99-40da1bbbbcb8",
   "metadata": {},
   "source": [
    "4. For any given positive integer, determine if the number is divisible by 7."
   ]
  },
  {
   "cell_type": "code",
   "execution_count": null,
   "id": "dd84ba6f-0af2-40d9-83d8-ac878c35843d",
   "metadata": {},
   "outputs": [],
   "source": [
    "# your code here\n",
    "\n",
    "\n"
   ]
  },
  {
   "cell_type": "markdown",
   "id": "4382953e-6db6-4a28-9190-8651c06fd318",
   "metadata": {},
   "source": [
    "5. Write a function which takes in a number or a string, and determines if the argument is a palindrome (i.e.: it's the same if we reverse the order of the characters). Hint: use question 1."
   ]
  },
  {
   "cell_type": "code",
   "execution_count": null,
   "id": "4c91247d-bab0-43b9-985d-b611a3937c44",
   "metadata": {},
   "outputs": [],
   "source": [
    "# your code here\n",
    "\n",
    "\n",
    "\n"
   ]
  }
 ],
 "metadata": {
  "kernelspec": {
   "display_name": "Python 3 (ipykernel)",
   "language": "python",
   "name": "python3"
  },
  "language_info": {
   "codemirror_mode": {
    "name": "ipython",
    "version": 3
   },
   "file_extension": ".py",
   "mimetype": "text/x-python",
   "name": "python",
   "nbconvert_exporter": "python",
   "pygments_lexer": "ipython3",
   "version": "3.11.6"
  }
 },
 "nbformat": 4,
 "nbformat_minor": 5
}
